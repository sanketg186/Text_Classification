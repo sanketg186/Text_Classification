{
 "cells": [
  {
   "cell_type": "markdown",
   "metadata": {},
   "source": [
    "## In this notebook we will explore and process the dataset and implement ML models for classifying images based on text"
   ]
  },
  {
   "cell_type": "markdown",
   "metadata": {},
   "source": [
    "### 1. ETL : We will process the data \n",
    "### 2. ML : Different machine learning model implementation"
   ]
  },
  {
   "cell_type": "code",
   "execution_count": 31,
   "metadata": {},
   "outputs": [],
   "source": [
    "# Import libraries\n",
    "import pandas as pd\n",
    "import numpy as np\n",
    "import demoji\n",
    "import nltk\n",
    "import os\n",
    "\n",
    "import nltk\n",
    "from nltk.tokenize import word_tokenize\n",
    "from nltk.stem.porter import PorterStemmer\n",
    "from nltk.stem.wordnet import WordNetLemmatizer\n",
    "from sklearn.feature_extraction.text import TfidfVectorizer\n",
    "from nltk.corpus import stopwords\n",
    "from sklearn.ensemble import RandomForestClassifier\n",
    "from sklearn.model_selection import train_test_split\n",
    "import re\n",
    "from sklearn.metrics import confusion_matrix\n",
    "from sklearn.pipeline import Pipeline, FeatureUnion\n",
    "from sklearn.feature_extraction.text import CountVectorizer, TfidfTransformer\n",
    "from sklearn import multioutput\n",
    "from sklearn.feature_extraction.text import TfidfTransformer\n",
    "from sklearn.pipeline import Pipeline\n",
    "#ML models\n",
    "from sklearn.multiclass import OneVsRestClassifier\n",
    "from sklearn.svm import LinearSVC,SVC\n",
    "from sklearn.naive_bayes import MultinomialNB\n",
    "from sklearn.linear_model import LogisticRegression\n",
    "from sklearn.metrics import classification_report, accuracy_score\n",
    "from sklearn.model_selection import GridSearchCV\n",
    "from sklearn.preprocessing import StandardScaler\n",
    "import pickle\n",
    "import re,string\n",
    "\n",
    "# deep learnig models\n",
    "from keras import Sequential\n",
    "from keras.layers import Embedding, LSTM, Dense, Dropout,SpatialDropout1D\n",
    "from keras.preprocessing import sequence\n",
    "from keras.models import Sequential\n",
    "from keras import layers\n",
    "from keras.preprocessing.text import Tokenizer\n",
    "\n",
    "import plotly.graph_objects as go\n",
    "from plotly.offline import init_notebook_mode, iplot\n",
    "import warnings\n",
    "warnings.filterwarnings(\"ignore\")"
   ]
  },
  {
   "cell_type": "code",
   "execution_count": 23,
   "metadata": {},
   "outputs": [
    {
     "name": "stderr",
     "output_type": "stream",
     "text": [
      "[nltk_data] Downloading package punkt to /home/sanket/nltk_data...\n",
      "[nltk_data]   Package punkt is already up-to-date!\n",
      "[nltk_data] Downloading package stopwords to /home/sanket/nltk_data...\n",
      "[nltk_data]   Package stopwords is already up-to-date!\n",
      "[nltk_data] Downloading package wordnet to /home/sanket/nltk_data...\n",
      "[nltk_data]   Package wordnet is already up-to-date!\n"
     ]
    },
    {
     "data": {
      "text/plain": [
       "True"
      ]
     },
     "execution_count": 23,
     "metadata": {},
     "output_type": "execute_result"
    }
   ],
   "source": [
    "nltk.download('punkt')\n",
    "nltk.download('stopwords')\n",
    "nltk.download('wordnet')"
   ]
  },
  {
   "cell_type": "code",
   "execution_count": 24,
   "metadata": {},
   "outputs": [
    {
     "name": "stdout",
     "output_type": "stream",
     "text": [
      "Downloading emoji data ...\n",
      "... OK (Got response in 0.97 seconds)\n",
      "Writing emoji data to /home/sanket/.demoji/codes.json ...\n",
      "... OK\n"
     ]
    }
   ],
   "source": [
    "demoji.download_codes()"
   ]
  },
  {
   "cell_type": "markdown",
   "metadata": {},
   "source": [
    "## ETL\n",
    "### In this part we will explore the data, processing and feature extraction before diving into the ML side"
   ]
  },
  {
   "cell_type": "code",
   "execution_count": 25,
   "metadata": {},
   "outputs": [],
   "source": [
    "def strip_all_entities(text):\n",
    "    entity_prefixes = ['@','@_','#']\n",
    "    for separator in  string.punctuation:\n",
    "        if separator not in entity_prefixes :\n",
    "            text = text.replace(separator,' ')\n",
    "    words = []\n",
    "    for word in text.split():\n",
    "        word = word.strip()\n",
    "        if word:\n",
    "            if word[0] not in entity_prefixes:\n",
    "                words.append(word)\n",
    "    return ' '.join(words)"
   ]
  },
  {
   "cell_type": "code",
   "execution_count": 26,
   "metadata": {},
   "outputs": [],
   "source": [
    "def print_accuracy(y_pred,y_test):\n",
    "    print('Accuracy: ',np.mean(pred == np.array(y_test)))"
   ]
  },
  {
   "cell_type": "code",
   "execution_count": 27,
   "metadata": {},
   "outputs": [],
   "source": [
    "# This class is used to process the data.\n",
    "class DataProcessing:\n",
    "    def __init__(self,df):\n",
    "        '''\n",
    "        Input\n",
    "        df: datafame\n",
    "        Initialize the class instance object variable df with data frame\n",
    "        '''\n",
    "        self.df = df\n",
    "    \n",
    "    def extract_img_url(self,df):\n",
    "        '''\n",
    "        extract image names\n",
    "        '''\n",
    "        df['urls'] = df['urls'].apply(lambda x: x[0].split('/')[-1]if len(x)>0 else np.nan)\n",
    "        self.df = df\n",
    "        \n",
    "    def extract_thumbnail_url(self,df):\n",
    "        '''\n",
    "        extract thumbnail names\n",
    "        '''\n",
    "        df['thumbnail_src'] = df['thumbnail_src'].apply(lambda x: x.split('/')[-1])\n",
    "        self.df = df\n",
    "        \n",
    "        \n",
    "    def drop_column(self,df,cols=None):\n",
    "        '''\n",
    "        Input\n",
    "        cols = list of columns to be dropped\n",
    "        '''\n",
    "        df.drop(cols, axis=1,inplace=True)\n",
    "        self.df = df\n",
    "    \n",
    "    def extract_text(self,df):\n",
    "        '''We\n",
    "        extract text from caption after removing \\n\n",
    "        '''\n",
    "        df['edge_media_to_caption'] = df['edge_media_to_caption'].apply(lambda x: demoji.\n",
    "                                                                    replace(x['edges'][0]['node']['text']) \n",
    "                                                                    if len(x['edges']) > 0 else np.nan )\n",
    "        df['edge_media_to_caption'] = df['edge_media_to_caption'].apply(lambda x:x.replace(\"\\n\",\" \") if x!=np.nan else x)\n",
    "        self.df = df\n",
    "    \n",
    "    def process_tags(self,df):\n",
    "        '''\n",
    "        convert tag list into a string separated by space\n",
    "        '''\n",
    "        df['tags'] = df['tags'].apply(lambda x: list(x))\n",
    "        df['tags'] = df['tags'].apply(lambda x: ' '.join(x))\n",
    "        self.df = df\n",
    "    \n",
    "    def keep_rows(self,df,images):\n",
    "        '''\n",
    "        remove rows that doesn't have images(that doesn't have labels) \n",
    "        '''\n",
    "        df = df[df['thumbnail_src'].isin(images)]\n",
    "        self.df = df\n",
    "        \n",
    "    def add_label(self):\n",
    "        '''\n",
    "        Add label values(1 for pavbhaji otherwise 0)\n",
    "        '''\n",
    "        self.df['pavbhaji']=np.nan\n",
    "        self.df['pavbhaji'] = self.df['thumbnail_src'].apply(lambda x: 1 if x in pavbhaji_images else 0)\n",
    "        \n",
    "    def extract_caption(self,df):\n",
    "        '''\n",
    "        Remove # and @ from caption\n",
    "        '''\n",
    "        df['caption'] = df['edge_media_to_caption'].apply(lambda x: strip_all_entities(x))\n",
    "        self.df = df\n",
    "    \n",
    "    def add_tag_and_caption(self,df):\n",
    "        '''\n",
    "        combine tags and caption into a string\n",
    "        '''\n",
    "        df['text'] = df['tags']+ \" \" + df['caption']\n",
    "        self.df = df"
   ]
  },
  {
   "cell_type": "code",
   "execution_count": 28,
   "metadata": {},
   "outputs": [],
   "source": [
    "# Read the json\n",
    "df = pd.read_json('dataset/pavbhaji.json')"
   ]
  },
  {
   "cell_type": "code",
   "execution_count": 29,
   "metadata": {},
   "outputs": [],
   "source": [
    "# Read the images from directory\n",
    "pavbhaji_images = os.listdir('dataset/images/0')\n",
    "nopavbhaji_images = os.listdir('dataset/images/1')\n",
    "all_images = pavbhaji_images + nopavbhaji_images"
   ]
  },
  {
   "cell_type": "code",
   "execution_count": 9,
   "metadata": {},
   "outputs": [
    {
     "name": "stdout",
     "output_type": "stream",
     "text": [
      "Pavbhaji Images: 269 No Pavbhaji Images: 183\n",
      "Total Images 452\n"
     ]
    }
   ],
   "source": [
    "print('Pavbhaji Images:',len(pavbhaji_images),'No Pavbhaji Images:',len(nopavbhaji_images))\n",
    "print('Total Images',len(pavbhaji_images+nopavbhaji_images))"
   ]
  },
  {
   "cell_type": "code",
   "execution_count": 32,
   "metadata": {},
   "outputs": [
    {
     "data": {
      "text/html": [
       "<div>\n",
       "<style scoped>\n",
       "    .dataframe tbody tr th:only-of-type {\n",
       "        vertical-align: middle;\n",
       "    }\n",
       "\n",
       "    .dataframe tbody tr th {\n",
       "        vertical-align: top;\n",
       "    }\n",
       "\n",
       "    .dataframe thead th {\n",
       "        text-align: right;\n",
       "    }\n",
       "</style>\n",
       "<table border=\"1\" class=\"dataframe\">\n",
       "  <thead>\n",
       "    <tr style=\"text-align: right;\">\n",
       "      <th></th>\n",
       "      <th>dimensions</th>\n",
       "      <th>display_url</th>\n",
       "      <th>edge_liked_by</th>\n",
       "      <th>edge_media_preview_like</th>\n",
       "      <th>edge_media_to_caption</th>\n",
       "      <th>edge_media_to_comment</th>\n",
       "      <th>id</th>\n",
       "      <th>is_video</th>\n",
       "      <th>location</th>\n",
       "      <th>owner</th>\n",
       "      <th>shortcode</th>\n",
       "      <th>tags</th>\n",
       "      <th>taken_at_timestamp</th>\n",
       "      <th>thumbnail_resources</th>\n",
       "      <th>thumbnail_src</th>\n",
       "      <th>urls</th>\n",
       "      <th>video_view_count</th>\n",
       "      <th>comments_disabled</th>\n",
       "    </tr>\n",
       "  </thead>\n",
       "  <tbody>\n",
       "    <tr>\n",
       "      <th>0</th>\n",
       "      <td>{'height': 734, 'width': 640}</td>\n",
       "      <td>https://instagram.fpnq3-1.fna.fbcdn.net/vp/352...</td>\n",
       "      <td>{'count': 3797}</td>\n",
       "      <td>{'count': 3797}</td>\n",
       "      <td>{'edges': [{'node': {'text': 'TAG A PAV BHAJI ...</td>\n",
       "      <td>{'count': 52}</td>\n",
       "      <td>1834712933156555776</td>\n",
       "      <td>True</td>\n",
       "      <td>None</td>\n",
       "      <td>{'id': '1919686029'}</td>\n",
       "      <td>Bl2NbElnIva</td>\n",
       "      <td>[vadapav, foodgram, foodphotography, foodblogg...</td>\n",
       "      <td>1532934873</td>\n",
       "      <td>[{'config_height': 150, 'config_width': 150, '...</td>\n",
       "      <td>https://instagram.fpnq3-1.fna.fbcdn.net/vp/cb5...</td>\n",
       "      <td>[https://instagram.fpnq3-1.fna.fbcdn.net/vp/89...</td>\n",
       "      <td>0.0</td>\n",
       "      <td>NaN</td>\n",
       "    </tr>\n",
       "    <tr>\n",
       "      <th>1</th>\n",
       "      <td>{'height': 750, 'width': 750}</td>\n",
       "      <td>https://instagram.fpnq3-1.fna.fbcdn.net/vp/b0d...</td>\n",
       "      <td>{'count': 12041}</td>\n",
       "      <td>{'count': 12041}</td>\n",
       "      <td>{'edges': [{'node': {'text': 'देसी स्टाइल पाव ...</td>\n",
       "      <td>{'count': 325}</td>\n",
       "      <td>1826000656302706176</td>\n",
       "      <td>True</td>\n",
       "      <td>{'has_public_page': True, 'id': '245717485', '...</td>\n",
       "      <td>{'id': '1445587278'}</td>\n",
       "      <td>BlXQewejY3Z</td>\n",
       "      <td>[healthyfood, sokolkata, mumbaifoodie, faridab...</td>\n",
       "      <td>1531897016</td>\n",
       "      <td>[{'config_height': 150, 'config_width': 150, '...</td>\n",
       "      <td>https://instagram.fpnq3-1.fna.fbcdn.net/vp/ad3...</td>\n",
       "      <td>[https://instagram.fpnq3-1.fna.fbcdn.net/vp/9c...</td>\n",
       "      <td>0.0</td>\n",
       "      <td>NaN</td>\n",
       "    </tr>\n",
       "    <tr>\n",
       "      <th>2</th>\n",
       "      <td>{'height': 800, 'width': 640}</td>\n",
       "      <td>https://instagram.fpnq3-1.fna.fbcdn.net/vp/cb4...</td>\n",
       "      <td>{'count': 3544}</td>\n",
       "      <td>{'count': 3544}</td>\n",
       "      <td>{'edges': [{'node': {'text': 'Pav Bhaji😍😍😋\\n.\\...</td>\n",
       "      <td>{'count': 18}</td>\n",
       "      <td>1849962218902145792</td>\n",
       "      <td>True</td>\n",
       "      <td>{'has_public_page': True, 'id': '213724095', '...</td>\n",
       "      <td>{'id': '4759392841'}</td>\n",
       "      <td>BmsYtYpjkq4</td>\n",
       "      <td>[foodphotography, mumbaipeople, vascom, delhib...</td>\n",
       "      <td>1534752790</td>\n",
       "      <td>[{'config_height': 150, 'config_width': 150, '...</td>\n",
       "      <td>https://instagram.fpnq3-1.fna.fbcdn.net/vp/64f...</td>\n",
       "      <td>[https://instagram.fpnq3-1.fna.fbcdn.net/vp/5e...</td>\n",
       "      <td>0.0</td>\n",
       "      <td>NaN</td>\n",
       "    </tr>\n",
       "    <tr>\n",
       "      <th>3</th>\n",
       "      <td>{'height': 937, 'width': 750}</td>\n",
       "      <td>https://instagram.fpnq3-1.fna.fbcdn.net/vp/180...</td>\n",
       "      <td>{'count': 1388}</td>\n",
       "      <td>{'count': 1388}</td>\n",
       "      <td>{'edges': [{'node': {'text': 'Asli Makhan Pav ...</td>\n",
       "      <td>{'count': 91}</td>\n",
       "      <td>1828963273137213696</td>\n",
       "      <td>True</td>\n",
       "      <td>{'has_public_page': True, 'id': '234730336', '...</td>\n",
       "      <td>{'id': '4628040416'}</td>\n",
       "      <td>BlhyGgalFDw</td>\n",
       "      <td>[foodvideo, misscravingbuster, foodblogger, mu...</td>\n",
       "      <td>1532249632</td>\n",
       "      <td>[{'config_height': 150, 'config_width': 150, '...</td>\n",
       "      <td>https://instagram.fpnq3-1.fna.fbcdn.net/vp/802...</td>\n",
       "      <td>[https://instagram.fpnq3-1.fna.fbcdn.net/vp/33...</td>\n",
       "      <td>0.0</td>\n",
       "      <td>NaN</td>\n",
       "    </tr>\n",
       "    <tr>\n",
       "      <th>4</th>\n",
       "      <td>{'height': 936, 'width': 750}</td>\n",
       "      <td>https://instagram.fpnq3-1.fna.fbcdn.net/vp/5ee...</td>\n",
       "      <td>{'count': 223}</td>\n",
       "      <td>{'count': 223}</td>\n",
       "      <td>{'edges': [{'node': {'text': 'Tag a Pav bhaji ...</td>\n",
       "      <td>{'count': 14}</td>\n",
       "      <td>1852265507774756864</td>\n",
       "      <td>True</td>\n",
       "      <td>None</td>\n",
       "      <td>{'id': '7798081590'}</td>\n",
       "      <td>Bm0kapkn3ha</td>\n",
       "      <td>[]</td>\n",
       "      <td>1535027282</td>\n",
       "      <td>[{'config_height': 150, 'config_width': 150, '...</td>\n",
       "      <td>https://instagram.fpnq3-1.fna.fbcdn.net/vp/292...</td>\n",
       "      <td>[https://instagram.fpnq3-1.fna.fbcdn.net/vp/6a...</td>\n",
       "      <td>0.0</td>\n",
       "      <td>NaN</td>\n",
       "    </tr>\n",
       "  </tbody>\n",
       "</table>\n",
       "</div>"
      ],
      "text/plain": [
       "                      dimensions  \\\n",
       "0  {'height': 734, 'width': 640}   \n",
       "1  {'height': 750, 'width': 750}   \n",
       "2  {'height': 800, 'width': 640}   \n",
       "3  {'height': 937, 'width': 750}   \n",
       "4  {'height': 936, 'width': 750}   \n",
       "\n",
       "                                         display_url     edge_liked_by  \\\n",
       "0  https://instagram.fpnq3-1.fna.fbcdn.net/vp/352...   {'count': 3797}   \n",
       "1  https://instagram.fpnq3-1.fna.fbcdn.net/vp/b0d...  {'count': 12041}   \n",
       "2  https://instagram.fpnq3-1.fna.fbcdn.net/vp/cb4...   {'count': 3544}   \n",
       "3  https://instagram.fpnq3-1.fna.fbcdn.net/vp/180...   {'count': 1388}   \n",
       "4  https://instagram.fpnq3-1.fna.fbcdn.net/vp/5ee...    {'count': 223}   \n",
       "\n",
       "  edge_media_preview_like                              edge_media_to_caption  \\\n",
       "0         {'count': 3797}  {'edges': [{'node': {'text': 'TAG A PAV BHAJI ...   \n",
       "1        {'count': 12041}  {'edges': [{'node': {'text': 'देसी स्टाइल पाव ...   \n",
       "2         {'count': 3544}  {'edges': [{'node': {'text': 'Pav Bhaji😍😍😋\\n.\\...   \n",
       "3         {'count': 1388}  {'edges': [{'node': {'text': 'Asli Makhan Pav ...   \n",
       "4          {'count': 223}  {'edges': [{'node': {'text': 'Tag a Pav bhaji ...   \n",
       "\n",
       "  edge_media_to_comment                   id  is_video  \\\n",
       "0         {'count': 52}  1834712933156555776      True   \n",
       "1        {'count': 325}  1826000656302706176      True   \n",
       "2         {'count': 18}  1849962218902145792      True   \n",
       "3         {'count': 91}  1828963273137213696      True   \n",
       "4         {'count': 14}  1852265507774756864      True   \n",
       "\n",
       "                                            location                 owner  \\\n",
       "0                                               None  {'id': '1919686029'}   \n",
       "1  {'has_public_page': True, 'id': '245717485', '...  {'id': '1445587278'}   \n",
       "2  {'has_public_page': True, 'id': '213724095', '...  {'id': '4759392841'}   \n",
       "3  {'has_public_page': True, 'id': '234730336', '...  {'id': '4628040416'}   \n",
       "4                                               None  {'id': '7798081590'}   \n",
       "\n",
       "     shortcode                                               tags  \\\n",
       "0  Bl2NbElnIva  [vadapav, foodgram, foodphotography, foodblogg...   \n",
       "1  BlXQewejY3Z  [healthyfood, sokolkata, mumbaifoodie, faridab...   \n",
       "2  BmsYtYpjkq4  [foodphotography, mumbaipeople, vascom, delhib...   \n",
       "3  BlhyGgalFDw  [foodvideo, misscravingbuster, foodblogger, mu...   \n",
       "4  Bm0kapkn3ha                                                 []   \n",
       "\n",
       "   taken_at_timestamp                                thumbnail_resources  \\\n",
       "0          1532934873  [{'config_height': 150, 'config_width': 150, '...   \n",
       "1          1531897016  [{'config_height': 150, 'config_width': 150, '...   \n",
       "2          1534752790  [{'config_height': 150, 'config_width': 150, '...   \n",
       "3          1532249632  [{'config_height': 150, 'config_width': 150, '...   \n",
       "4          1535027282  [{'config_height': 150, 'config_width': 150, '...   \n",
       "\n",
       "                                       thumbnail_src  \\\n",
       "0  https://instagram.fpnq3-1.fna.fbcdn.net/vp/cb5...   \n",
       "1  https://instagram.fpnq3-1.fna.fbcdn.net/vp/ad3...   \n",
       "2  https://instagram.fpnq3-1.fna.fbcdn.net/vp/64f...   \n",
       "3  https://instagram.fpnq3-1.fna.fbcdn.net/vp/802...   \n",
       "4  https://instagram.fpnq3-1.fna.fbcdn.net/vp/292...   \n",
       "\n",
       "                                                urls  video_view_count  \\\n",
       "0  [https://instagram.fpnq3-1.fna.fbcdn.net/vp/89...               0.0   \n",
       "1  [https://instagram.fpnq3-1.fna.fbcdn.net/vp/9c...               0.0   \n",
       "2  [https://instagram.fpnq3-1.fna.fbcdn.net/vp/5e...               0.0   \n",
       "3  [https://instagram.fpnq3-1.fna.fbcdn.net/vp/33...               0.0   \n",
       "4  [https://instagram.fpnq3-1.fna.fbcdn.net/vp/6a...               0.0   \n",
       "\n",
       "   comments_disabled  \n",
       "0                NaN  \n",
       "1                NaN  \n",
       "2                NaN  \n",
       "3                NaN  \n",
       "4                NaN  "
      ]
     },
     "execution_count": 32,
     "metadata": {},
     "output_type": "execute_result"
    }
   ],
   "source": [
    "df.head()"
   ]
  },
  {
   "cell_type": "code",
   "execution_count": 11,
   "metadata": {},
   "outputs": [
    {
     "data": {
      "text/plain": [
       "(1500, 18)"
      ]
     },
     "execution_count": 11,
     "metadata": {},
     "output_type": "execute_result"
    }
   ],
   "source": [
    "df.shape"
   ]
  },
  {
   "cell_type": "markdown",
   "metadata": {},
   "source": [
    "As we can see, dataframe has 1500 rows but we only have labels for 452 so we need to remove rest of the entries from dataframe."
   ]
  },
  {
   "cell_type": "code",
   "execution_count": 33,
   "metadata": {},
   "outputs": [
    {
     "data": {
      "text/plain": [
       "Index(['dimensions', 'display_url', 'edge_liked_by', 'edge_media_preview_like',\n",
       "       'edge_media_to_caption', 'edge_media_to_comment', 'id', 'is_video',\n",
       "       'location', 'owner', 'shortcode', 'tags', 'taken_at_timestamp',\n",
       "       'thumbnail_resources', 'thumbnail_src', 'urls', 'video_view_count',\n",
       "       'comments_disabled'],\n",
       "      dtype='object')"
      ]
     },
     "execution_count": 33,
     "metadata": {},
     "output_type": "execute_result"
    }
   ],
   "source": [
    "df.columns"
   ]
  },
  {
   "cell_type": "code",
   "execution_count": 34,
   "metadata": {},
   "outputs": [
    {
     "data": {
      "text/plain": [
       "0    [vadapav, foodgram, foodphotography, foodblogg...\n",
       "1    [healthyfood, sokolkata, mumbaifoodie, faridab...\n",
       "2    [foodphotography, mumbaipeople, vascom, delhib...\n",
       "3    [foodvideo, misscravingbuster, foodblogger, mu...\n",
       "4                                                   []\n",
       "Name: tags, dtype: object"
      ]
     },
     "execution_count": 34,
     "metadata": {},
     "output_type": "execute_result"
    }
   ],
   "source": [
    "#Now let's see tags column\n",
    "df['tags'].head()"
   ]
  },
  {
   "cell_type": "markdown",
   "metadata": {},
   "source": [
    "We cane see that the tags are mixture of hindi and english words"
   ]
  },
  {
   "cell_type": "code",
   "execution_count": 35,
   "metadata": {},
   "outputs": [
    {
     "data": {
      "text/plain": [
       "0    {'edges': [{'node': {'text': 'TAG A PAV BHAJI ...\n",
       "1    {'edges': [{'node': {'text': 'देसी स्टाइल पाव ...\n",
       "2    {'edges': [{'node': {'text': 'Pav Bhaji😍😍😋\\n.\\...\n",
       "3    {'edges': [{'node': {'text': 'Asli Makhan Pav ...\n",
       "4    {'edges': [{'node': {'text': 'Tag a Pav bhaji ...\n",
       "Name: edge_media_to_caption, dtype: object"
      ]
     },
     "execution_count": 35,
     "metadata": {},
     "output_type": "execute_result"
    }
   ],
   "source": [
    "# Now let's see the captions\n",
    "df['edge_media_to_caption'].head()"
   ]
  },
  {
   "cell_type": "markdown",
   "metadata": {},
   "source": [
    "From the above we can see that text needs to be extracted."
   ]
  },
  {
   "cell_type": "code",
   "execution_count": 36,
   "metadata": {},
   "outputs": [
    {
     "data": {
      "text/plain": [
       "'देसी स्टाइल पाव भाजी/Desi Style Paav Bhaji 🇮🇳 ❤️ 🏠 ❤️🏠❤️🏠❤️🏠❤️\\n_______\\nGood Afternoon Instafamily ❤️\\n_______\\nक्या आप को पाव भाजी पसन्द हैं?😍\\nलाइक एंड कॉमेंट करके बतायें😋😍\\n_______\\nIngredients:\\n_______\\n8-10 Potatoes\\n1 Cauliflower \\n2-3 Carrot\\n1 Cup Peas\\n3 Cups Water\\n4 tbsp oil\\n1 tbsp Ginger Garlic Paste\\n2 Onions - Finely Chopped \\n3 Tomatoes - Finaly Chopped \\n1 tbsp Red Chilli Powder \\n1 tbsp Kashmiri Red Chilli\\n2-3 tbsp Pav Bhaji Masala\\nSalt to Taste\\nCoriander to Garnish\\n_______\\nRecipe:\\n_______\\n- Pressure cook roughly chopped potatoes, cauliflower, carrot & peas with 3 cups of water to 3 whistles. - Mash the boiled veggies & keep them aside. - Heat oil in a wok. - Add ginger garlic paste & cook till aroma fades away. - Add onions & cook till turn light brown. - Add tomatoes & cook till corner leaves oil. - Add red chilli powder, kashmiri chilli powder, pav bhaji masala & mix. - Add mashed veggies & salt.  Mix and cook for 7-8 mints. * Adjust consistency by adding water. - Stir & mash veggies in between. - Garnish with coriander.\\n- Serve hot with pav.\\n______\\n______\\nFollow me @sofaridabad for more homemade food updates and please Turn “ON” the post Notification.\\nUse #sofaridabad to get featured on my Page ❤️ 🇮🇳 _____\\n#pavbhaji #streetstyle #homemadewithlove #homecooked #cooking #streetfood #mumbaifoodie #views #eat #tastyfood #favourite #dish #carrot #vegetarian #vegetables #healthylifestyle #healthyfood #sokolkata #chennaifoodie #indianfoodbloggers #incredibile #india #eeeeeats #20likes #foodorgasm #foodfood #faridabad #instalove ❤️\\n_____\\n@foodiesince96 @delhi_eats @myfoodproject @nomnom24x7 @iamdatingfood @therawtextures  @sanjeevkapoor @foodiecouple_parvan @foodieincarnate @sodelhi  @foodtalkindia @eattreat @zingyzest @thisisdelhi @chefkunal @vikaskhannagroup ❤️'"
      ]
     },
     "execution_count": 36,
     "metadata": {},
     "output_type": "execute_result"
    }
   ],
   "source": [
    "df['edge_media_to_caption'][0]['edges'][0]['node']['text'],\n",
    "df['edge_media_to_caption'][1]['edges'][0]['node']['text']"
   ]
  },
  {
   "cell_type": "markdown",
   "metadata": {},
   "source": [
    "From the above we can see that the caption contains emojis,username reference and tags\n",
    "It also contains hindi written texts.\n",
    "We will remove tags, usernames and emojis from the captions."
   ]
  },
  {
   "cell_type": "code",
   "execution_count": 37,
   "metadata": {},
   "outputs": [],
   "source": [
    "process = DataProcessing(df)"
   ]
  },
  {
   "cell_type": "code",
   "execution_count": 38,
   "metadata": {},
   "outputs": [],
   "source": [
    "process.extract_img_url(df)"
   ]
  },
  {
   "cell_type": "code",
   "execution_count": 39,
   "metadata": {},
   "outputs": [],
   "source": [
    "process.extract_thumbnail_url(df)"
   ]
  },
  {
   "cell_type": "code",
   "execution_count": 40,
   "metadata": {},
   "outputs": [],
   "source": [
    "# Only keeping rows whose images are available\n",
    "process.keep_rows(df,all_images)"
   ]
  },
  {
   "cell_type": "code",
   "execution_count": 41,
   "metadata": {},
   "outputs": [],
   "source": [
    "df = process.df"
   ]
  },
  {
   "cell_type": "code",
   "execution_count": 42,
   "metadata": {},
   "outputs": [],
   "source": [
    "process.extract_text(df)"
   ]
  },
  {
   "cell_type": "code",
   "execution_count": 43,
   "metadata": {},
   "outputs": [],
   "source": [
    "df = process.df"
   ]
  },
  {
   "cell_type": "code",
   "execution_count": 44,
   "metadata": {},
   "outputs": [],
   "source": [
    "process.add_label()"
   ]
  },
  {
   "cell_type": "code",
   "execution_count": 45,
   "metadata": {},
   "outputs": [],
   "source": [
    "process.process_tags(df)"
   ]
  },
  {
   "cell_type": "code",
   "execution_count": 46,
   "metadata": {},
   "outputs": [],
   "source": [
    "process.extract_caption(df)"
   ]
  },
  {
   "cell_type": "code",
   "execution_count": 47,
   "metadata": {},
   "outputs": [],
   "source": [
    "df = process.df\n",
    "process.add_tag_and_caption(df)"
   ]
  },
  {
   "cell_type": "code",
   "execution_count": 48,
   "metadata": {},
   "outputs": [],
   "source": [
    "df = process.df"
   ]
  },
  {
   "cell_type": "code",
   "execution_count": 49,
   "metadata": {},
   "outputs": [
    {
     "data": {
      "text/html": [
       "<div>\n",
       "<style scoped>\n",
       "    .dataframe tbody tr th:only-of-type {\n",
       "        vertical-align: middle;\n",
       "    }\n",
       "\n",
       "    .dataframe tbody tr th {\n",
       "        vertical-align: top;\n",
       "    }\n",
       "\n",
       "    .dataframe thead th {\n",
       "        text-align: right;\n",
       "    }\n",
       "</style>\n",
       "<table border=\"1\" class=\"dataframe\">\n",
       "  <thead>\n",
       "    <tr style=\"text-align: right;\">\n",
       "      <th></th>\n",
       "      <th>dimensions</th>\n",
       "      <th>display_url</th>\n",
       "      <th>edge_liked_by</th>\n",
       "      <th>edge_media_preview_like</th>\n",
       "      <th>edge_media_to_caption</th>\n",
       "      <th>edge_media_to_comment</th>\n",
       "      <th>id</th>\n",
       "      <th>is_video</th>\n",
       "      <th>location</th>\n",
       "      <th>owner</th>\n",
       "      <th>...</th>\n",
       "      <th>tags</th>\n",
       "      <th>taken_at_timestamp</th>\n",
       "      <th>thumbnail_resources</th>\n",
       "      <th>thumbnail_src</th>\n",
       "      <th>urls</th>\n",
       "      <th>video_view_count</th>\n",
       "      <th>comments_disabled</th>\n",
       "      <th>pavbhaji</th>\n",
       "      <th>caption</th>\n",
       "      <th>text</th>\n",
       "    </tr>\n",
       "  </thead>\n",
       "  <tbody>\n",
       "    <tr>\n",
       "      <th>17</th>\n",
       "      <td>{'height': 1155, 'width': 1080}</td>\n",
       "      <td>https://instagram.fpnq3-1.fna.fbcdn.net/vp/700...</td>\n",
       "      <td>{'count': 45}</td>\n",
       "      <td>{'count': 45}</td>\n",
       "      <td>Chicken Tikka  . . . Follow @dilli_ki_teekhi_m...</td>\n",
       "      <td>{'count': 5}</td>\n",
       "      <td>1855224025926588672</td>\n",
       "      <td>False</td>\n",
       "      <td>None</td>\n",
       "      <td>{'id': '7815521541'}</td>\n",
       "      <td>...</td>\n",
       "      <td>westbengal iphone delhifoodie sokolkata mumbai...</td>\n",
       "      <td>1535379959</td>\n",
       "      <td>[{'config_height': 150, 'config_width': 150, '...</td>\n",
       "      <td>39790065_708138802879611_4373499256883904512_n...</td>\n",
       "      <td>39790065_708138802879611_4373499256883904512_n...</td>\n",
       "      <td>NaN</td>\n",
       "      <td>0.0</td>\n",
       "      <td>1</td>\n",
       "      <td>Chicken Tikka Follow ki teekhi mirchi rahe mer...</td>\n",
       "      <td>westbengal iphone delhifoodie sokolkata mumbai...</td>\n",
       "    </tr>\n",
       "    <tr>\n",
       "      <th>18</th>\n",
       "      <td>{'height': 1080, 'width': 1080}</td>\n",
       "      <td>https://instagram.fpnq3-1.fna.fbcdn.net/vp/da9...</td>\n",
       "      <td>{'count': 215}</td>\n",
       "      <td>{'count': 215}</td>\n",
       "      <td>Hello frandz, pav bhaji khaalo Garam hai  Ye a...</td>\n",
       "      <td>{'count': 0}</td>\n",
       "      <td>1855211863837300480</td>\n",
       "      <td>False</td>\n",
       "      <td>{'has_public_page': True, 'id': '498870164', '...</td>\n",
       "      <td>{'id': '4846807954'}</td>\n",
       "      <td>...</td>\n",
       "      <td>foodgram foodphotography foodblogger foodmania...</td>\n",
       "      <td>1535378509</td>\n",
       "      <td>[{'config_height': 150, 'config_width': 150, '...</td>\n",
       "      <td>39205669_548076665624561_2856530375738392576_n...</td>\n",
       "      <td>39205669_548076665624561_2856530375738392576_n...</td>\n",
       "      <td>NaN</td>\n",
       "      <td>0.0</td>\n",
       "      <td>0</td>\n",
       "      <td>Hello frandz pav bhaji khaalo Garam hai Ye ach...</td>\n",
       "      <td>foodgram foodphotography foodblogger foodmania...</td>\n",
       "    </tr>\n",
       "    <tr>\n",
       "      <th>19</th>\n",
       "      <td>{'height': 1350, 'width': 1080}</td>\n",
       "      <td>https://instagram.fpnq3-1.fna.fbcdn.net/vp/a20...</td>\n",
       "      <td>{'count': 46}</td>\n",
       "      <td>{'count': 46}</td>\n",
       "      <td>Follow @dilliciousfoodie  @dilliciousfoodie  @...</td>\n",
       "      <td>{'count': 0}</td>\n",
       "      <td>1855207036881438720</td>\n",
       "      <td>False</td>\n",
       "      <td>{'has_public_page': True, 'id': '1946652909695...</td>\n",
       "      <td>{'id': '5689462323'}</td>\n",
       "      <td>...</td>\n",
       "      <td>foodphotography bhaji pasta fries f52grams ind...</td>\n",
       "      <td>1535377934</td>\n",
       "      <td>[{'config_height': 150, 'config_width': 150, '...</td>\n",
       "      <td>39928567_2025694197741778_2817802553157661723_...</td>\n",
       "      <td>39928567_2025694197741778_2817802553157661723_...</td>\n",
       "      <td>NaN</td>\n",
       "      <td>0.0</td>\n",
       "      <td>1</td>\n",
       "      <td>Follow a bit ‭</td>\n",
       "      <td>foodphotography bhaji pasta fries f52grams ind...</td>\n",
       "    </tr>\n",
       "    <tr>\n",
       "      <th>20</th>\n",
       "      <td>{'height': 750, 'width': 750}</td>\n",
       "      <td>https://instagram.fpnq3-1.fna.fbcdn.net/vp/b5f...</td>\n",
       "      <td>{'count': 741}</td>\n",
       "      <td>{'count': 741}</td>\n",
       "      <td>We’ve got you some delicious evening snacks . ...</td>\n",
       "      <td>{'count': 2}</td>\n",
       "      <td>1855194071632941056</td>\n",
       "      <td>False</td>\n",
       "      <td>None</td>\n",
       "      <td>{'id': '1996092261'}</td>\n",
       "      <td>...</td>\n",
       "      <td>UpcyclingFood Twist LeftoverPavBhajiBreadPakod...</td>\n",
       "      <td>1535376388</td>\n",
       "      <td>[{'config_height': 150, 'config_width': 150, '...</td>\n",
       "      <td>39991006_472180219962850_7601786252118982656_n...</td>\n",
       "      <td>39991006_472180219962850_7601786252118982656_n...</td>\n",
       "      <td>NaN</td>\n",
       "      <td>0.0</td>\n",
       "      <td>1</td>\n",
       "      <td>We’ve got you some delicious evening snacks</td>\n",
       "      <td>UpcyclingFood Twist LeftoverPavBhajiBreadPakod...</td>\n",
       "    </tr>\n",
       "    <tr>\n",
       "      <th>21</th>\n",
       "      <td>{'height': 565, 'width': 1080}</td>\n",
       "      <td>https://instagram.fpnq3-1.fna.fbcdn.net/vp/6a2...</td>\n",
       "      <td>{'count': 28}</td>\n",
       "      <td>{'count': 28}</td>\n",
       "      <td>People who love food are the best  . . . . . ....</td>\n",
       "      <td>{'count': 0}</td>\n",
       "      <td>1855192456304594176</td>\n",
       "      <td>False</td>\n",
       "      <td>{'has_public_page': True, 'id': '239380854', '...</td>\n",
       "      <td>{'id': '3421689455'}</td>\n",
       "      <td>...</td>\n",
       "      <td>foodphotography lonidosa tbt foodie maharashtr...</td>\n",
       "      <td>1535376196</td>\n",
       "      <td>[{'config_height': 150, 'config_width': 150, '...</td>\n",
       "      <td>37158549_528309647598249_6068909533663592448_n...</td>\n",
       "      <td>37158549_528309647598249_6068909533663592448_n...</td>\n",
       "      <td>NaN</td>\n",
       "      <td>0.0</td>\n",
       "      <td>1</td>\n",
       "      <td>People who love food are the best</td>\n",
       "      <td>foodphotography lonidosa tbt foodie maharashtr...</td>\n",
       "    </tr>\n",
       "  </tbody>\n",
       "</table>\n",
       "<p>5 rows × 21 columns</p>\n",
       "</div>"
      ],
      "text/plain": [
       "                         dimensions  \\\n",
       "17  {'height': 1155, 'width': 1080}   \n",
       "18  {'height': 1080, 'width': 1080}   \n",
       "19  {'height': 1350, 'width': 1080}   \n",
       "20    {'height': 750, 'width': 750}   \n",
       "21   {'height': 565, 'width': 1080}   \n",
       "\n",
       "                                          display_url   edge_liked_by  \\\n",
       "17  https://instagram.fpnq3-1.fna.fbcdn.net/vp/700...   {'count': 45}   \n",
       "18  https://instagram.fpnq3-1.fna.fbcdn.net/vp/da9...  {'count': 215}   \n",
       "19  https://instagram.fpnq3-1.fna.fbcdn.net/vp/a20...   {'count': 46}   \n",
       "20  https://instagram.fpnq3-1.fna.fbcdn.net/vp/b5f...  {'count': 741}   \n",
       "21  https://instagram.fpnq3-1.fna.fbcdn.net/vp/6a2...   {'count': 28}   \n",
       "\n",
       "   edge_media_preview_like                              edge_media_to_caption  \\\n",
       "17           {'count': 45}  Chicken Tikka  . . . Follow @dilli_ki_teekhi_m...   \n",
       "18          {'count': 215}  Hello frandz, pav bhaji khaalo Garam hai  Ye a...   \n",
       "19           {'count': 46}  Follow @dilliciousfoodie  @dilliciousfoodie  @...   \n",
       "20          {'count': 741}  We’ve got you some delicious evening snacks . ...   \n",
       "21           {'count': 28}  People who love food are the best  . . . . . ....   \n",
       "\n",
       "   edge_media_to_comment                   id  is_video  \\\n",
       "17          {'count': 5}  1855224025926588672     False   \n",
       "18          {'count': 0}  1855211863837300480     False   \n",
       "19          {'count': 0}  1855207036881438720     False   \n",
       "20          {'count': 2}  1855194071632941056     False   \n",
       "21          {'count': 0}  1855192456304594176     False   \n",
       "\n",
       "                                             location                 owner  \\\n",
       "17                                               None  {'id': '7815521541'}   \n",
       "18  {'has_public_page': True, 'id': '498870164', '...  {'id': '4846807954'}   \n",
       "19  {'has_public_page': True, 'id': '1946652909695...  {'id': '5689462323'}   \n",
       "20                                               None  {'id': '1996092261'}   \n",
       "21  {'has_public_page': True, 'id': '239380854', '...  {'id': '3421689455'}   \n",
       "\n",
       "    ...                                               tags taken_at_timestamp  \\\n",
       "17  ...  westbengal iphone delhifoodie sokolkata mumbai...         1535379959   \n",
       "18  ...  foodgram foodphotography foodblogger foodmania...         1535378509   \n",
       "19  ...  foodphotography bhaji pasta fries f52grams ind...         1535377934   \n",
       "20  ...  UpcyclingFood Twist LeftoverPavBhajiBreadPakod...         1535376388   \n",
       "21  ...  foodphotography lonidosa tbt foodie maharashtr...         1535376196   \n",
       "\n",
       "                                  thumbnail_resources  \\\n",
       "17  [{'config_height': 150, 'config_width': 150, '...   \n",
       "18  [{'config_height': 150, 'config_width': 150, '...   \n",
       "19  [{'config_height': 150, 'config_width': 150, '...   \n",
       "20  [{'config_height': 150, 'config_width': 150, '...   \n",
       "21  [{'config_height': 150, 'config_width': 150, '...   \n",
       "\n",
       "                                        thumbnail_src  \\\n",
       "17  39790065_708138802879611_4373499256883904512_n...   \n",
       "18  39205669_548076665624561_2856530375738392576_n...   \n",
       "19  39928567_2025694197741778_2817802553157661723_...   \n",
       "20  39991006_472180219962850_7601786252118982656_n...   \n",
       "21  37158549_528309647598249_6068909533663592448_n...   \n",
       "\n",
       "                                                 urls video_view_count  \\\n",
       "17  39790065_708138802879611_4373499256883904512_n...              NaN   \n",
       "18  39205669_548076665624561_2856530375738392576_n...              NaN   \n",
       "19  39928567_2025694197741778_2817802553157661723_...              NaN   \n",
       "20  39991006_472180219962850_7601786252118982656_n...              NaN   \n",
       "21  37158549_528309647598249_6068909533663592448_n...              NaN   \n",
       "\n",
       "    comments_disabled  pavbhaji  \\\n",
       "17                0.0         1   \n",
       "18                0.0         0   \n",
       "19                0.0         1   \n",
       "20                0.0         1   \n",
       "21                0.0         1   \n",
       "\n",
       "                                              caption  \\\n",
       "17  Chicken Tikka Follow ki teekhi mirchi rahe mer...   \n",
       "18  Hello frandz pav bhaji khaalo Garam hai Ye ach...   \n",
       "19                                     Follow a bit ‭   \n",
       "20        We’ve got you some delicious evening snacks   \n",
       "21                  People who love food are the best   \n",
       "\n",
       "                                                 text  \n",
       "17  westbengal iphone delhifoodie sokolkata mumbai...  \n",
       "18  foodgram foodphotography foodblogger foodmania...  \n",
       "19  foodphotography bhaji pasta fries f52grams ind...  \n",
       "20  UpcyclingFood Twist LeftoverPavBhajiBreadPakod...  \n",
       "21  foodphotography lonidosa tbt foodie maharashtr...  \n",
       "\n",
       "[5 rows x 21 columns]"
      ]
     },
     "execution_count": 49,
     "metadata": {},
     "output_type": "execute_result"
    }
   ],
   "source": [
    "df.head()"
   ]
  },
  {
   "cell_type": "markdown",
   "metadata": {},
   "source": [
    "## 2. Machine learning model implementation\n",
    "1. Training ML models only on Tags of the images\n",
    "2. Training ML models with both Tags and captions"
   ]
  },
  {
   "cell_type": "markdown",
   "metadata": {},
   "source": [
    "## Using only tags to train the model for image classification"
   ]
  },
  {
   "cell_type": "markdown",
   "metadata": {},
   "source": [
    "## Classical ML"
   ]
  },
  {
   "cell_type": "code",
   "execution_count": 50,
   "metadata": {},
   "outputs": [],
   "source": [
    "X = df['tags']\n",
    "y = df.iloc[:,-3]\n",
    "X = X.reset_index(drop=True)\n",
    "y = y.reset_index(drop=True)"
   ]
  },
  {
   "cell_type": "code",
   "execution_count": 51,
   "metadata": {},
   "outputs": [],
   "source": [
    "def tokenize(text):\n",
    "    '''\n",
    "    Input\n",
    "    text: take the text as input\n",
    "    Output\n",
    "    words_lemmed: tokenized and lemmatized text with stop words removed \n",
    "    '''\n",
    "    text = re.sub(r\"[^a-zA-Z0-9]\", \" \", text.lower())\n",
    "    \n",
    "    stop_words = stopwords.words(\"english\")\n",
    "    \n",
    "    #tokenize\n",
    "    words = word_tokenize (text)\n",
    "    words_lemmed = [WordNetLemmatizer().lemmatize(w) for w in words if w not in stop_words]\n",
    "    return words_lemmed"
   ]
  },
  {
   "cell_type": "code",
   "execution_count": 52,
   "metadata": {},
   "outputs": [],
   "source": [
    "# Here, we will convert text into features that can be given as input to the model\n",
    "# The CountVectorizer provides a simple way to both tokenize a collection of text documents\n",
    "# and build a vocabulary of known words, but also to encode new documents using that vocabulary.\n",
    "vect = CountVectorizer(tokenizer=tokenize)\n",
    "X = vect.fit_transform(X)\n",
    "\n",
    "# TF-IDF are word frequency scores that try to highlight words that are more interesting\n",
    "# e.g. frequent in a document but not across documents\n",
    "tfidf = TfidfTransformer()\n",
    "X = tfidf.fit_transform(X)\n"
   ]
  },
  {
   "cell_type": "code",
   "execution_count": 53,
   "metadata": {},
   "outputs": [],
   "source": [
    "X_train, X_test, y_train, y_test = train_test_split(X, y, random_state = 22)"
   ]
  },
  {
   "cell_type": "code",
   "execution_count": 54,
   "metadata": {},
   "outputs": [],
   "source": [
    "# standardize the data and creating a pipleine\n",
    "pipeline = Pipeline([('scale',StandardScaler(with_mean=False)),\n",
    "                     ('clf', LinearSVC())])"
   ]
  },
  {
   "cell_type": "code",
   "execution_count": 55,
   "metadata": {},
   "outputs": [],
   "source": [
    "# Creating a search space\n",
    "search_space = [{'clf':[LinearSVC()]},\n",
    "                \n",
    "                {'clf': [LogisticRegression(solver='sag',random_state=22)]},\n",
    "                \n",
    "                {'clf': [MultinomialNB()]},\n",
    "                {'clf':[RandomForestClassifier(n_estimators=200, max_depth=3, random_state=22)]}]"
   ]
  },
  {
   "cell_type": "code",
   "execution_count": 56,
   "metadata": {},
   "outputs": [],
   "source": [
    "cv = GridSearchCV(pipeline, search_space)"
   ]
  },
  {
   "cell_type": "code",
   "execution_count": 57,
   "metadata": {},
   "outputs": [
    {
     "data": {
      "text/plain": [
       "GridSearchCV(cv=None, error_score=nan,\n",
       "             estimator=Pipeline(memory=None,\n",
       "                                steps=[('scale',\n",
       "                                        StandardScaler(copy=True,\n",
       "                                                       with_mean=False,\n",
       "                                                       with_std=True)),\n",
       "                                       ('clf',\n",
       "                                        LinearSVC(C=1.0, class_weight=None,\n",
       "                                                  dual=True, fit_intercept=True,\n",
       "                                                  intercept_scaling=1,\n",
       "                                                  loss='squared_hinge',\n",
       "                                                  max_iter=1000,\n",
       "                                                  multi_class='ovr',\n",
       "                                                  penalty='l2',\n",
       "                                                  random_state=None, tol=0.0001,\n",
       "                                                  verbose=0))],\n",
       "                                verbose=Fal...\n",
       "                                                         max_features='auto',\n",
       "                                                         max_leaf_nodes=None,\n",
       "                                                         max_samples=None,\n",
       "                                                         min_impurity_decrease=0.0,\n",
       "                                                         min_impurity_split=None,\n",
       "                                                         min_samples_leaf=1,\n",
       "                                                         min_samples_split=2,\n",
       "                                                         min_weight_fraction_leaf=0.0,\n",
       "                                                         n_estimators=200,\n",
       "                                                         n_jobs=None,\n",
       "                                                         oob_score=False,\n",
       "                                                         random_state=22,\n",
       "                                                         verbose=0,\n",
       "                                                         warm_start=False)]}],\n",
       "             pre_dispatch='2*n_jobs', refit=True, return_train_score=False,\n",
       "             scoring=None, verbose=0)"
      ]
     },
     "execution_count": 57,
     "metadata": {},
     "output_type": "execute_result"
    }
   ],
   "source": [
    "cv.fit(X_train,y_train)"
   ]
  },
  {
   "cell_type": "code",
   "execution_count": 60,
   "metadata": {},
   "outputs": [],
   "source": [
    "pred = cv.predict(X_test)"
   ]
  },
  {
   "cell_type": "code",
   "execution_count": 61,
   "metadata": {},
   "outputs": [
    {
     "name": "stdout",
     "output_type": "stream",
     "text": [
      "Accuracy:  0.6460176991150443\n"
     ]
    }
   ],
   "source": [
    "print_accuracy(pred,y_test)"
   ]
  },
  {
   "cell_type": "markdown",
   "metadata": {},
   "source": [
    "## Deep learning model for classification"
   ]
  },
  {
   "cell_type": "code",
   "execution_count": 62,
   "metadata": {},
   "outputs": [],
   "source": [
    "x_train_array = X_train.toarray()\n",
    "y_train_array = np.array(y_train)\n",
    "x_test_array = X_test.toarray()\n",
    "y_test_array = np.array(y_test)"
   ]
  },
  {
   "cell_type": "code",
   "execution_count": 63,
   "metadata": {},
   "outputs": [],
   "source": [
    "input_dim = X_train.shape[1]  # Number of features\n",
    "model = Sequential()\n",
    "model.add(layers.Dense(10, input_dim=input_dim, activation='relu'))\n",
    "model.add(layers.Dense(1, activation='sigmoid'))"
   ]
  },
  {
   "cell_type": "code",
   "execution_count": 64,
   "metadata": {},
   "outputs": [],
   "source": [
    "scaler = StandardScaler()\n",
    "# transform data\n",
    "x_train_array = scaler.fit_transform(x_train_array)\n",
    "x_test_array = scaler.fit_transform(x_test_array)"
   ]
  },
  {
   "cell_type": "code",
   "execution_count": 65,
   "metadata": {},
   "outputs": [
    {
     "name": "stdout",
     "output_type": "stream",
     "text": [
      "Model: \"sequential\"\n",
      "_________________________________________________________________\n",
      "Layer (type)                 Output Shape              Param #   \n",
      "=================================================================\n",
      "dense (Dense)                (None, 10)                25640     \n",
      "_________________________________________________________________\n",
      "dense_1 (Dense)              (None, 1)                 11        \n",
      "=================================================================\n",
      "Total params: 25,651\n",
      "Trainable params: 25,651\n",
      "Non-trainable params: 0\n",
      "_________________________________________________________________\n"
     ]
    }
   ],
   "source": [
    "model.compile(loss='binary_crossentropy', optimizer='adam', metrics=['accuracy'])\n",
    "model.summary()"
   ]
  },
  {
   "cell_type": "code",
   "execution_count": 66,
   "metadata": {},
   "outputs": [],
   "source": [
    "history = model.fit(x_train_array, y_train_array,epochs=100,verbose=False,validation_data=(x_test_array, y_test_array),batch_size=10)"
   ]
  },
  {
   "cell_type": "code",
   "execution_count": 67,
   "metadata": {},
   "outputs": [
    {
     "name": "stdout",
     "output_type": "stream",
     "text": [
      "Training Accuracy: 0.9882\n",
      "Testing Accuracy:  0.6460\n"
     ]
    }
   ],
   "source": [
    "loss, accuracy = model.evaluate(x_train_array, y_train_array, verbose=False)\n",
    "print(\"Training Accuracy: {:.4f}\".format(accuracy))\n",
    "loss, accuracy = model.evaluate(x_test_array, y_test_array, verbose=False)\n",
    "print(\"Testing Accuracy:  {:.4f}\".format(accuracy))"
   ]
  },
  {
   "cell_type": "code",
   "execution_count": 68,
   "metadata": {},
   "outputs": [],
   "source": [
    "import matplotlib.pyplot as plt\n",
    "plt.style.use('ggplot')\n",
    "\n",
    "def plot_history(history):\n",
    "    '''\n",
    "    Ploting loss and accuracy\n",
    "    '''\n",
    "    acc = history.history['accuracy']\n",
    "    val_acc = history.history['val_accuracy']\n",
    "    loss = history.history['loss']\n",
    "    val_loss = history.history['val_loss']\n",
    "    x = range(1, len(acc) + 1)\n",
    "\n",
    "    plt.figure(figsize=(12, 5))\n",
    "    plt.subplot(1, 2, 1)\n",
    "    plt.plot(x, acc, 'b', label='Training acc')\n",
    "    plt.plot(x, val_acc, 'r', label='Validation acc')\n",
    "    plt.title('Training and validation accuracy')\n",
    "    plt.legend()\n",
    "    plt.subplot(1, 2, 2)\n",
    "    plt.plot(x, loss, 'b', label='Training loss')\n",
    "    plt.plot(x, val_loss, 'r', label='Validation loss')\n",
    "    plt.title('Training and validation loss')\n",
    "    plt.legend()\n"
   ]
  },
  {
   "cell_type": "code",
   "execution_count": 69,
   "metadata": {},
   "outputs": [
    {
     "data": {
      "image/png": "[encoded data removed]",
      "text/plain": [
       "<Figure size 864x360 with 2 Axes>"
      ]
     },
     "metadata": {},
     "output_type": "display_data"
    }
   ],
   "source": [
    "plot_history(history)"
   ]
  },
  {
   "cell_type": "markdown",
   "metadata": {},
   "source": [
    "## LSTM for classification"
   ]
  },
  {
   "cell_type": "code",
   "execution_count": 70,
   "metadata": {},
   "outputs": [],
   "source": [
    "max_features = 4000\n",
    "tokenizer = Tokenizer(num_words=max_features, split=' ')\n",
    "tokenizer.fit_on_texts(df['tags'].values)\n",
    "X_rnn = tokenizer.texts_to_sequences(df['tags'].values)\n",
    "X_rnn = sequence.pad_sequences(X_rnn)"
   ]
  },
  {
   "cell_type": "code",
   "execution_count": 71,
   "metadata": {},
   "outputs": [],
   "source": [
    "X_train_rnn, X_test_rnn, y_train_rnn, y_test_rnn = train_test_split(X_rnn, y, random_state = 22)"
   ]
  },
  {
   "cell_type": "code",
   "execution_count": 72,
   "metadata": {},
   "outputs": [
    {
     "name": "stdout",
     "output_type": "stream",
     "text": [
      "Model: \"sequential_1\"\n",
      "_________________________________________________________________\n",
      "Layer (type)                 Output Shape              Param #   \n",
      "=================================================================\n",
      "embedding (Embedding)        (None, 35, 128)           512000    \n",
      "_________________________________________________________________\n",
      "spatial_dropout1d (SpatialDr (None, 35, 128)           0         \n",
      "_________________________________________________________________\n",
      "lstm (LSTM)                  (None, 196)               254800    \n",
      "_________________________________________________________________\n",
      "dense_2 (Dense)              (None, 1)                 197       \n",
      "=================================================================\n",
      "Total params: 766,997\n",
      "Trainable params: 766,997\n",
      "Non-trainable params: 0\n",
      "_________________________________________________________________\n",
      "None\n"
     ]
    }
   ],
   "source": [
    "embed_dim = 128\n",
    "lstm_out = 196\n",
    "\n",
    "model = Sequential()\n",
    "model.add(Embedding(max_features, embed_dim,input_length = X_train_rnn.shape[1]))\n",
    "model.add(SpatialDropout1D(0.4))\n",
    "model.add(LSTM(lstm_out, dropout=0.2, recurrent_dropout=0.2))\n",
    "model.add(Dense(1,activation='sigmoid'))\n",
    "model.compile(loss = 'binary_crossentropy', optimizer='adam',metrics = ['accuracy'])\n",
    "print(model.summary())"
   ]
  },
  {
   "cell_type": "code",
   "execution_count": 73,
   "metadata": {},
   "outputs": [
    {
     "name": "stdout",
     "output_type": "stream",
     "text": [
      "Epoch 1/10\n",
      "85/85 - 14s - loss: 0.6764 - accuracy: 0.6136 - val_loss: 0.7175 - val_accuracy: 0.5310\n",
      "Epoch 2/10\n",
      "85/85 - 10s - loss: 0.5871 - accuracy: 0.6578 - val_loss: 0.6297 - val_accuracy: 0.5575\n",
      "Epoch 3/10\n",
      "85/85 - 10s - loss: 0.4652 - accuracy: 0.8525 - val_loss: 0.6722 - val_accuracy: 0.6549\n",
      "Epoch 4/10\n",
      "85/85 - 10s - loss: 0.2952 - accuracy: 0.8879 - val_loss: 0.7384 - val_accuracy: 0.6549\n",
      "Epoch 5/10\n",
      "85/85 - 10s - loss: 0.1756 - accuracy: 0.9322 - val_loss: 0.7290 - val_accuracy: 0.6018\n",
      "Epoch 6/10\n",
      "85/85 - 11s - loss: 0.1484 - accuracy: 0.9381 - val_loss: 0.8981 - val_accuracy: 0.6283\n",
      "Epoch 7/10\n",
      "85/85 - 10s - loss: 0.1159 - accuracy: 0.9676 - val_loss: 0.7749 - val_accuracy: 0.6460\n",
      "Epoch 8/10\n",
      "85/85 - 10s - loss: 0.0757 - accuracy: 0.9764 - val_loss: 0.9290 - val_accuracy: 0.6283\n",
      "Epoch 9/10\n",
      "85/85 - 10s - loss: 0.0707 - accuracy: 0.9735 - val_loss: 0.9348 - val_accuracy: 0.6637\n",
      "Epoch 10/10\n",
      "85/85 - 10s - loss: 0.0603 - accuracy: 0.9823 - val_loss: 0.9921 - val_accuracy: 0.6726\n"
     ]
    }
   ],
   "source": [
    "batch_size = 4\n",
    "history = model.fit(X_train_rnn, y_train_rnn,verbose=2 ,epochs = 10,validation_data=(X_test_rnn, y_test_rnn), batch_size=batch_size)"
   ]
  },
  {
   "cell_type": "code",
   "execution_count": 74,
   "metadata": {},
   "outputs": [
    {
     "data": {
      "image/png": "[encoded data removed]",
      "text/plain": [
       "<Figure size 864x360 with 2 Axes>"
      ]
     },
     "metadata": {},
     "output_type": "display_data"
    }
   ],
   "source": [
    "plot_history(history)"
   ]
  },
  {
   "cell_type": "markdown",
   "metadata": {},
   "source": [
    "## Using tags and captions also to train the model for image classification"
   ]
  },
  {
   "cell_type": "code",
   "execution_count": 75,
   "metadata": {},
   "outputs": [],
   "source": [
    "X = df['text']\n",
    "y = df.iloc[:,-3]\n",
    "X = X.reset_index(drop=True)\n",
    "y = y.reset_index(drop=True)\n",
    "vect = CountVectorizer(tokenizer=tokenize)\n",
    "X = vect.fit_transform(X)\n",
    "\n",
    "tfidf = TfidfTransformer()\n",
    "X = tfidf.fit_transform(X)"
   ]
  },
  {
   "cell_type": "code",
   "execution_count": 76,
   "metadata": {},
   "outputs": [],
   "source": [
    "X_train, X_test, y_train, y_test = train_test_split(X, y, random_state = 22)\n",
    "pipeline = Pipeline([('scale',StandardScaler(with_mean=False)),\n",
    "                     ('clf', LinearSVC())])\n",
    "\n",
    "search_space = [{'clf':[LinearSVC()]},\n",
    "                \n",
    "                {'clf': [LogisticRegression(solver='sag',random_state=22)]},\n",
    "                \n",
    "                {'clf': [MultinomialNB()]},\n",
    "                {'clf':[RandomForestClassifier(n_estimators=200, max_depth=3, random_state=22)]}]"
   ]
  },
  {
   "cell_type": "code",
   "execution_count": 77,
   "metadata": {},
   "outputs": [],
   "source": [
    "cv = GridSearchCV(pipeline, search_space)"
   ]
  },
  {
   "cell_type": "code",
   "execution_count": 78,
   "metadata": {},
   "outputs": [
    {
     "data": {
      "text/plain": [
       "GridSearchCV(cv=None, error_score=nan,\n",
       "             estimator=Pipeline(memory=None,\n",
       "                                steps=[('scale',\n",
       "                                        StandardScaler(copy=True,\n",
       "                                                       with_mean=False,\n",
       "                                                       with_std=True)),\n",
       "                                       ('clf',\n",
       "                                        LinearSVC(C=1.0, class_weight=None,\n",
       "                                                  dual=True, fit_intercept=True,\n",
       "                                                  intercept_scaling=1,\n",
       "                                                  loss='squared_hinge',\n",
       "                                                  max_iter=1000,\n",
       "                                                  multi_class='ovr',\n",
       "                                                  penalty='l2',\n",
       "                                                  random_state=None, tol=0.0001,\n",
       "                                                  verbose=0))],\n",
       "                                verbose=Fal...\n",
       "                                                         max_features='auto',\n",
       "                                                         max_leaf_nodes=None,\n",
       "                                                         max_samples=None,\n",
       "                                                         min_impurity_decrease=0.0,\n",
       "                                                         min_impurity_split=None,\n",
       "                                                         min_samples_leaf=1,\n",
       "                                                         min_samples_split=2,\n",
       "                                                         min_weight_fraction_leaf=0.0,\n",
       "                                                         n_estimators=200,\n",
       "                                                         n_jobs=None,\n",
       "                                                         oob_score=False,\n",
       "                                                         random_state=22,\n",
       "                                                         verbose=0,\n",
       "                                                         warm_start=False)]}],\n",
       "             pre_dispatch='2*n_jobs', refit=True, return_train_score=False,\n",
       "             scoring=None, verbose=0)"
      ]
     },
     "execution_count": 78,
     "metadata": {},
     "output_type": "execute_result"
    }
   ],
   "source": [
    "cv.fit(X_train,y_train)"
   ]
  },
  {
   "cell_type": "code",
   "execution_count": 80,
   "metadata": {},
   "outputs": [],
   "source": [
    "pred = cv.predict(X_test)"
   ]
  },
  {
   "cell_type": "code",
   "execution_count": 81,
   "metadata": {},
   "outputs": [
    {
     "name": "stdout",
     "output_type": "stream",
     "text": [
      "Accuracy:  0.6194690265486725\n"
     ]
    }
   ],
   "source": [
    "print_accuracy(pred,y_test)"
   ]
  },
  {
   "cell_type": "markdown",
   "metadata": {},
   "source": [
    "## Deep Learning model for Classification"
   ]
  },
  {
   "cell_type": "code",
   "execution_count": 82,
   "metadata": {},
   "outputs": [],
   "source": [
    "x_train_array = X_train.toarray()\n",
    "y_train_array = np.array(y_train)\n",
    "x_test_array = X_test.toarray()\n",
    "y_test_array = np.array(y_test)"
   ]
  },
  {
   "cell_type": "code",
   "execution_count": 83,
   "metadata": {},
   "outputs": [],
   "source": [
    "input_dim = X_train.shape[1]  # Number of features\n",
    "model = Sequential()\n",
    "model.add(layers.Dense(10, input_dim=input_dim, activation='relu'))\n",
    "model.add(layers.Dense(1, activation='sigmoid'))"
   ]
  },
  {
   "cell_type": "code",
   "execution_count": 84,
   "metadata": {},
   "outputs": [],
   "source": [
    "scaler = StandardScaler()\n",
    "# transform data\n",
    "x_train_array = scaler.fit_transform(x_train_array)\n",
    "x_test_array = scaler.fit_transform(x_test_array)"
   ]
  },
  {
   "cell_type": "code",
   "execution_count": 85,
   "metadata": {},
   "outputs": [
    {
     "name": "stdout",
     "output_type": "stream",
     "text": [
      "Model: \"sequential_2\"\n",
      "_________________________________________________________________\n",
      "Layer (type)                 Output Shape              Param #   \n",
      "=================================================================\n",
      "dense_3 (Dense)              (None, 10)                42770     \n",
      "_________________________________________________________________\n",
      "dense_4 (Dense)              (None, 1)                 11        \n",
      "=================================================================\n",
      "Total params: 42,781\n",
      "Trainable params: 42,781\n",
      "Non-trainable params: 0\n",
      "_________________________________________________________________\n"
     ]
    }
   ],
   "source": [
    "model.compile(loss='binary_crossentropy', optimizer='adam', metrics=['accuracy'])\n",
    "model.summary()"
   ]
  },
  {
   "cell_type": "code",
   "execution_count": 86,
   "metadata": {},
   "outputs": [],
   "source": [
    "history = model.fit(x_train_array, y_train_array,epochs=100,verbose=False,validation_data=(x_test_array, y_test_array),batch_size=10)"
   ]
  },
  {
   "cell_type": "code",
   "execution_count": 87,
   "metadata": {},
   "outputs": [
    {
     "name": "stdout",
     "output_type": "stream",
     "text": [
      "Training Accuracy: 0.9587\n",
      "Testing Accuracy:  0.6283\n"
     ]
    }
   ],
   "source": [
    "loss, accuracy = model.evaluate(x_train_array, y_train_array, verbose=False)\n",
    "print(\"Training Accuracy: {:.4f}\".format(accuracy))\n",
    "loss, accuracy = model.evaluate(x_test_array, y_test_array, verbose=False)\n",
    "print(\"Testing Accuracy:  {:.4f}\".format(accuracy))"
   ]
  },
  {
   "cell_type": "code",
   "execution_count": 88,
   "metadata": {},
   "outputs": [
    {
     "data": {
      "image/png": "[encoded data removed]",
      "text/plain": [
       "<Figure size 864x360 with 2 Axes>"
      ]
     },
     "metadata": {},
     "output_type": "display_data"
    }
   ],
   "source": [
    "plot_history(history)"
   ]
  },
  {
   "cell_type": "markdown",
   "metadata": {},
   "source": [
    "## LSTM for Classification"
   ]
  },
  {
   "cell_type": "code",
   "execution_count": 89,
   "metadata": {},
   "outputs": [],
   "source": [
    "max_features = 4000\n",
    "tokenizer = Tokenizer(num_words=max_features, split=' ')\n",
    "tokenizer.fit_on_texts(df['text'].values)\n",
    "X_rnn = tokenizer.texts_to_sequences(df['text'].values)\n",
    "X_rnn = sequence.pad_sequences(X_rnn)"
   ]
  },
  {
   "cell_type": "code",
   "execution_count": 90,
   "metadata": {},
   "outputs": [],
   "source": [
    "X_train_rnn, X_test_rnn, y_train_rnn, y_test_rnn = train_test_split(X_rnn, y, random_state = 22)"
   ]
  },
  {
   "cell_type": "code",
   "execution_count": 91,
   "metadata": {},
   "outputs": [
    {
     "name": "stdout",
     "output_type": "stream",
     "text": [
      "Model: \"sequential_3\"\n",
      "_________________________________________________________________\n",
      "Layer (type)                 Output Shape              Param #   \n",
      "=================================================================\n",
      "embedding_1 (Embedding)      (None, 295, 128)          512000    \n",
      "_________________________________________________________________\n",
      "spatial_dropout1d_1 (Spatial (None, 295, 128)          0         \n",
      "_________________________________________________________________\n",
      "lstm_1 (LSTM)                (None, 196)               254800    \n",
      "_________________________________________________________________\n",
      "dense_5 (Dense)              (None, 1)                 197       \n",
      "=================================================================\n",
      "Total params: 766,997\n",
      "Trainable params: 766,997\n",
      "Non-trainable params: 0\n",
      "_________________________________________________________________\n",
      "None\n"
     ]
    }
   ],
   "source": [
    "embed_dim = 128\n",
    "lstm_out = 196\n",
    "\n",
    "model = Sequential()\n",
    "model.add(Embedding(max_features, embed_dim,input_length = X_train_rnn.shape[1]))\n",
    "model.add(SpatialDropout1D(0.4))\n",
    "model.add(LSTM(lstm_out, dropout=0.2, recurrent_dropout=0.2))\n",
    "model.add(Dense(1,activation='sigmoid'))\n",
    "model.compile(loss = 'binary_crossentropy', optimizer='adam',metrics = ['accuracy'])\n",
    "print(model.summary())"
   ]
  },
  {
   "cell_type": "code",
   "execution_count": 92,
   "metadata": {},
   "outputs": [
    {
     "name": "stdout",
     "output_type": "stream",
     "text": [
      "Epoch 1/10\n",
      "85/85 - 85s - loss: 0.6761 - accuracy: 0.6136 - val_loss: 0.6777 - val_accuracy: 0.5575\n",
      "Epoch 2/10\n",
      "85/85 - 82s - loss: 0.6017 - accuracy: 0.7050 - val_loss: 0.6297 - val_accuracy: 0.6283\n",
      "Epoch 3/10\n",
      "85/85 - 83s - loss: 0.4193 - accuracy: 0.8230 - val_loss: 0.6524 - val_accuracy: 0.6372\n",
      "Epoch 4/10\n",
      "85/85 - 83s - loss: 0.2389 - accuracy: 0.9322 - val_loss: 0.7764 - val_accuracy: 0.6814\n",
      "Epoch 5/10\n",
      "85/85 - 80s - loss: 0.1821 - accuracy: 0.9381 - val_loss: 0.9059 - val_accuracy: 0.6814\n",
      "Epoch 6/10\n",
      "85/85 - 81s - loss: 0.0951 - accuracy: 0.9676 - val_loss: 1.0231 - val_accuracy: 0.6726\n",
      "Epoch 7/10\n",
      "85/85 - 85s - loss: 0.0403 - accuracy: 0.9853 - val_loss: 1.0359 - val_accuracy: 0.6637\n",
      "Epoch 8/10\n",
      "85/85 - 82s - loss: 0.0405 - accuracy: 0.9912 - val_loss: 1.3676 - val_accuracy: 0.6726\n",
      "Epoch 9/10\n",
      "85/85 - 82s - loss: 0.0460 - accuracy: 0.9853 - val_loss: 0.9583 - val_accuracy: 0.6549\n",
      "Epoch 10/10\n",
      "85/85 - 85s - loss: 0.0334 - accuracy: 0.9882 - val_loss: 0.9843 - val_accuracy: 0.6549\n"
     ]
    }
   ],
   "source": [
    "batch_size = 4\n",
    "history = model.fit(X_train_rnn, y_train_rnn,verbose=2 ,epochs = 10,validation_data=(X_test_rnn, y_test_rnn), batch_size=batch_size)"
   ]
  },
  {
   "cell_type": "code",
   "execution_count": 93,
   "metadata": {},
   "outputs": [
    {
     "name": "stdout",
     "output_type": "stream",
     "text": [
      "Training Accuracy: 0.9941\n",
      "Testing Accuracy:  0.6549\n"
     ]
    }
   ],
   "source": [
    "loss, accuracy = model.evaluate(X_train_rnn, y_train_rnn, verbose=False)\n",
    "print(\"Training Accuracy: {:.4f}\".format(accuracy))\n",
    "loss, accuracy = model.evaluate(X_test_rnn, y_test_rnn, verbose=False)\n",
    "print(\"Testing Accuracy:  {:.4f}\".format(accuracy))"
   ]
  },
  {
   "cell_type": "code",
   "execution_count": 94,
   "metadata": {},
   "outputs": [
    {
     "data": {
      "image/png": "[encoded data removed]",
      "text/plain": [
       "<Figure size 864x360 with 2 Axes>"
      ]
     },
     "metadata": {},
     "output_type": "display_data"
    }
   ],
   "source": [
    "plot_history(history)"
   ]
  },
  {
   "cell_type": "markdown",
   "metadata": {},
   "source": [
    "## Conclusion\n",
    "### Dataset\n",
    "1. The dataset is slighlty unbalanced as we can see there are more pavbhaji images then no pavbhaji.\n",
    "2. The dataset contains hindi,english, hindi written words, emojis.\n",
    "3. The dataset is very small with only 400 valid rows.\n",
    "\n",
    "### ML Implementation results\n",
    "1. As we can LSTM and deep neural network trained \"tags and captions\" gives a bit better results then using only \"tags\" and classical ML models.\n",
    "2. We also saw test or validation loss was increasing in case of neural networks, this might be because of overfitting as we have very small dataset.\n",
    "\n",
    "### Further things that we can try\n",
    "1. Using POS TAGGING.\n",
    "2. Handling the Hindi words separately.\n",
    "3. Using images and creating latent feature vectors along with the textual features to classify the images.\n",
    "4. I haven't used other features like 'edge_liked_by', 'edge_media_preview_like'. I thought these features would not add much to classification purpose. We can explore these features to find if they have any dependency in identifying a pav bhaji"
   ]
  }
 ],
 "metadata": {
  "kernelspec": {
   "display_name": "Python 3",
   "language": "python",
   "name": "python3"
  },
  "language_info": {
   "codemirror_mode": {
    "name": "ipython",
    "version": 3
   },
   "file_extension": ".py",
   "mimetype": "text/x-python",
   "name": "python",
   "nbconvert_exporter": "python",
   "pygments_lexer": "ipython3",
   "version": "3.6.10"
  }
 },
 "nbformat": 4,
 "nbformat_minor": 4
}
