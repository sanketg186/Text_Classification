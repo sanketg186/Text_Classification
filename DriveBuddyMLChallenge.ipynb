{
 "cells": [
  {
   "cell_type": "markdown",
   "metadata": {},
   "source": [
    "## In this notebook we will explore and process the dataset and implement ML models for classifying images based on text"
   ]
  },
  {
   "cell_type": "code",
   "execution_count": 10,
   "metadata": {},
   "outputs": [],
   "source": [
    "# Import libraries\n",
    "import pandas as pd\n",
    "import numpy as np\n",
    "import demoji\n",
    "import nltk\n",
    "import os\n",
    "\n",
    "import nltk\n",
    "from nltk.tokenize import word_tokenize\n",
    "from nltk.stem.porter import PorterStemmer\n",
    "from nltk.stem.wordnet import WordNetLemmatizer\n",
    "from sklearn.feature_extraction.text import TfidfVectorizer\n",
    "from nltk.corpus import stopwords\n",
    "from sklearn.ensemble import RandomForestClassifier\n",
    "from sklearn.model_selection import train_test_split\n",
    "import re\n",
    "from sklearn.metrics import confusion_matrix\n",
    "from sklearn.pipeline import Pipeline, FeatureUnion\n",
    "from sklearn.feature_extraction.text import CountVectorizer, TfidfTransformer\n",
    "from sklearn import multioutput\n",
    "from sklearn.feature_extraction.text import TfidfTransformer\n",
    "from sklearn.pipeline import Pipeline\n",
    "#ML models\n",
    "from sklearn.multiclass import OneVsRestClassifier\n",
    "from sklearn.svm import LinearSVC,SVC\n",
    "from sklearn.naive_bayes import MultinomialNB\n",
    "from sklearn.linear_model import LogisticRegression\n",
    "from sklearn.metrics import classification_report, accuracy_score\n",
    "from sklearn.model_selection import GridSearchCV\n",
    "from sklearn.preprocessing import StandardScaler\n",
    "import pickle\n",
    "import re,string\n",
    "\n",
    "import plotly.graph_objects as go\n",
    "from plotly.offline import init_notebook_mode, iplot"
   ]
  },
  {
   "cell_type": "code",
   "execution_count": 11,
   "metadata": {},
   "outputs": [
    {
     "name": "stderr",
     "output_type": "stream",
     "text": [
      "[nltk_data] Downloading package punkt to /home/sanket/nltk_data...\n",
      "[nltk_data]   Package punkt is already up-to-date!\n",
      "[nltk_data] Downloading package stopwords to /home/sanket/nltk_data...\n",
      "[nltk_data]   Package stopwords is already up-to-date!\n",
      "[nltk_data] Downloading package wordnet to /home/sanket/nltk_data...\n",
      "[nltk_data]   Package wordnet is already up-to-date!\n"
     ]
    },
    {
     "data": {
      "text/plain": [
       "True"
      ]
     },
     "execution_count": 11,
     "metadata": {},
     "output_type": "execute_result"
    }
   ],
   "source": [
    "nltk.download('punkt')\n",
    "nltk.download('stopwords')\n",
    "nltk.download('wordnet')"
   ]
  },
  {
   "cell_type": "markdown",
   "metadata": {},
   "source": [
    "## ETL\n",
    "### In this part we will explore the data, processing and feature extraction before diving into the ML side"
   ]
  },
  {
   "cell_type": "code",
   "execution_count": null,
   "metadata": {},
   "outputs": [],
   "source": [
    "def strip_all_entities(text):\n",
    "    entity_prefixes = ['@','@_','#']\n",
    "    for separator in  string.punctuation:\n",
    "        if separator not in entity_prefixes :\n",
    "            text = text.replace(separator,' ')\n",
    "    words = []\n",
    "    for word in text.split():\n",
    "        word = word.strip()\n",
    "        if word:\n",
    "            if word[0] not in entity_prefixes:\n",
    "                words.append(word)\n",
    "    return ' '.join(words)"
   ]
  },
  {
   "cell_type": "code",
   "execution_count": 74,
   "metadata": {},
   "outputs": [],
   "source": [
    "# This class is used to process the data.\n",
    "class DataProcessing:\n",
    "    def __init__(self,df):\n",
    "        '''\n",
    "        Input\n",
    "        df: datafame\n",
    "        Initialize the class instance object variable df with data frame\n",
    "        '''\n",
    "        self.df = df\n",
    "    \n",
    "    def extract_img_url(self,df):\n",
    "        df['urls'] = df['urls'].apply(lambda x: x[0].split('/')[-1]if len(x)>0 else np.nan)\n",
    "        self.df = df\n",
    "        \n",
    "    def extract_thumbnail_url(self,df):\n",
    "        df['thumbnail_src'] = df['thumbnail_src'].apply(lambda x: x.split('/')[-1])\n",
    "        self.df = df\n",
    "        \n",
    "        \n",
    "    def drop_column(self,df,cols=None):\n",
    "        df.drop(cols, axis=1,inplace=True)\n",
    "        self.df = df\n",
    "    \n",
    "    def extract_text(self,df):\n",
    "        df['edge_media_to_caption'] = df['edge_media_to_caption'].apply(lambda x: demoji.\n",
    "                                                                    replace(x['edges'][0]['node']['text']) \n",
    "                                                                    if len(x['edges']) > 0 else np.nan )\n",
    "        df['edge_media_to_caption'] = df['edge_media_to_caption'].apply(lambda x:x.replace(\"\\n\",\" \") if x!=np.nan else x)\n",
    "        self.df = df\n",
    "    \n",
    "    def process_tags(self,df):\n",
    "        df['tags'] = df['tags'].apply(lambda x: list(x))\n",
    "        df['tags'] = df['tags'].apply(lambda x: ' '.join(x))\n",
    "        self.df = df\n",
    "    \n",
    "    def keep_rows(self,df,images):\n",
    "        df = df[df['thumbnail_src'].isin(images)]\n",
    "        self.df = df\n",
    "        \n",
    "    def add_label(self):\n",
    "        self.df['pavbhaji']=np.nan\n",
    "        self.df['pavbhaji'] = self.df['thumbnail_src'].apply(lambda x: 1 if x in pavbhaji_images else 0)\n",
    "        \n",
    "    def extract_caption(self,df):\n",
    "        df['caption'] = df['edge_media_to_caption'].apply(lambda x: strip_all_entities(x))\n",
    "        self.df = df\n",
    "    \n",
    "    def add_tag_and_caption(self,df):\n",
    "        df['text'] = df['tags']+ \" \" + df['caption']\n",
    "        self.df = df"
   ]
  },
  {
   "cell_type": "code",
   "execution_count": 91,
   "metadata": {},
   "outputs": [],
   "source": [
    "df = pd.read_json('dataset/pavbhaji.json')"
   ]
  },
  {
   "cell_type": "code",
   "execution_count": 92,
   "metadata": {},
   "outputs": [],
   "source": [
    "pavbhaji_images = os.listdir('dataset/images/0')\n",
    "nopavbhaji_images = os.listdir('dataset/images/1')\n",
    "all_images = pavbhaji_images + nopavbhaji_images"
   ]
  },
  {
   "cell_type": "code",
   "execution_count": 93,
   "metadata": {},
   "outputs": [
    {
     "data": {
      "text/html": [
       "<div>\n",
       "<style scoped>\n",
       "    .dataframe tbody tr th:only-of-type {\n",
       "        vertical-align: middle;\n",
       "    }\n",
       "\n",
       "    .dataframe tbody tr th {\n",
       "        vertical-align: top;\n",
       "    }\n",
       "\n",
       "    .dataframe thead th {\n",
       "        text-align: right;\n",
       "    }\n",
       "</style>\n",
       "<table border=\"1\" class=\"dataframe\">\n",
       "  <thead>\n",
       "    <tr style=\"text-align: right;\">\n",
       "      <th></th>\n",
       "      <th>dimensions</th>\n",
       "      <th>display_url</th>\n",
       "      <th>edge_liked_by</th>\n",
       "      <th>edge_media_preview_like</th>\n",
       "      <th>edge_media_to_caption</th>\n",
       "      <th>edge_media_to_comment</th>\n",
       "      <th>id</th>\n",
       "      <th>is_video</th>\n",
       "      <th>location</th>\n",
       "      <th>owner</th>\n",
       "      <th>shortcode</th>\n",
       "      <th>tags</th>\n",
       "      <th>taken_at_timestamp</th>\n",
       "      <th>thumbnail_resources</th>\n",
       "      <th>thumbnail_src</th>\n",
       "      <th>urls</th>\n",
       "      <th>video_view_count</th>\n",
       "      <th>comments_disabled</th>\n",
       "    </tr>\n",
       "  </thead>\n",
       "  <tbody>\n",
       "    <tr>\n",
       "      <th>0</th>\n",
       "      <td>{'height': 734, 'width': 640}</td>\n",
       "      <td>https://instagram.fpnq3-1.fna.fbcdn.net/vp/352...</td>\n",
       "      <td>{'count': 3797}</td>\n",
       "      <td>{'count': 3797}</td>\n",
       "      <td>{'edges': [{'node': {'text': 'TAG A PAV BHAJI ...</td>\n",
       "      <td>{'count': 52}</td>\n",
       "      <td>1834712933156555776</td>\n",
       "      <td>True</td>\n",
       "      <td>None</td>\n",
       "      <td>{'id': '1919686029'}</td>\n",
       "      <td>Bl2NbElnIva</td>\n",
       "      <td>[vadapav, foodgram, foodphotography, foodblogg...</td>\n",
       "      <td>1532934873</td>\n",
       "      <td>[{'config_height': 150, 'config_width': 150, '...</td>\n",
       "      <td>https://instagram.fpnq3-1.fna.fbcdn.net/vp/cb5...</td>\n",
       "      <td>[https://instagram.fpnq3-1.fna.fbcdn.net/vp/89...</td>\n",
       "      <td>0.0</td>\n",
       "      <td>NaN</td>\n",
       "    </tr>\n",
       "    <tr>\n",
       "      <th>1</th>\n",
       "      <td>{'height': 750, 'width': 750}</td>\n",
       "      <td>https://instagram.fpnq3-1.fna.fbcdn.net/vp/b0d...</td>\n",
       "      <td>{'count': 12041}</td>\n",
       "      <td>{'count': 12041}</td>\n",
       "      <td>{'edges': [{'node': {'text': 'देसी स्टाइल पाव ...</td>\n",
       "      <td>{'count': 325}</td>\n",
       "      <td>1826000656302706176</td>\n",
       "      <td>True</td>\n",
       "      <td>{'has_public_page': True, 'id': '245717485', '...</td>\n",
       "      <td>{'id': '1445587278'}</td>\n",
       "      <td>BlXQewejY3Z</td>\n",
       "      <td>[healthyfood, sokolkata, mumbaifoodie, faridab...</td>\n",
       "      <td>1531897016</td>\n",
       "      <td>[{'config_height': 150, 'config_width': 150, '...</td>\n",
       "      <td>https://instagram.fpnq3-1.fna.fbcdn.net/vp/ad3...</td>\n",
       "      <td>[https://instagram.fpnq3-1.fna.fbcdn.net/vp/9c...</td>\n",
       "      <td>0.0</td>\n",
       "      <td>NaN</td>\n",
       "    </tr>\n",
       "    <tr>\n",
       "      <th>2</th>\n",
       "      <td>{'height': 800, 'width': 640}</td>\n",
       "      <td>https://instagram.fpnq3-1.fna.fbcdn.net/vp/cb4...</td>\n",
       "      <td>{'count': 3544}</td>\n",
       "      <td>{'count': 3544}</td>\n",
       "      <td>{'edges': [{'node': {'text': 'Pav Bhaji😍😍😋\\n.\\...</td>\n",
       "      <td>{'count': 18}</td>\n",
       "      <td>1849962218902145792</td>\n",
       "      <td>True</td>\n",
       "      <td>{'has_public_page': True, 'id': '213724095', '...</td>\n",
       "      <td>{'id': '4759392841'}</td>\n",
       "      <td>BmsYtYpjkq4</td>\n",
       "      <td>[foodphotography, mumbaipeople, vascom, delhib...</td>\n",
       "      <td>1534752790</td>\n",
       "      <td>[{'config_height': 150, 'config_width': 150, '...</td>\n",
       "      <td>https://instagram.fpnq3-1.fna.fbcdn.net/vp/64f...</td>\n",
       "      <td>[https://instagram.fpnq3-1.fna.fbcdn.net/vp/5e...</td>\n",
       "      <td>0.0</td>\n",
       "      <td>NaN</td>\n",
       "    </tr>\n",
       "    <tr>\n",
       "      <th>3</th>\n",
       "      <td>{'height': 937, 'width': 750}</td>\n",
       "      <td>https://instagram.fpnq3-1.fna.fbcdn.net/vp/180...</td>\n",
       "      <td>{'count': 1388}</td>\n",
       "      <td>{'count': 1388}</td>\n",
       "      <td>{'edges': [{'node': {'text': 'Asli Makhan Pav ...</td>\n",
       "      <td>{'count': 91}</td>\n",
       "      <td>1828963273137213696</td>\n",
       "      <td>True</td>\n",
       "      <td>{'has_public_page': True, 'id': '234730336', '...</td>\n",
       "      <td>{'id': '4628040416'}</td>\n",
       "      <td>BlhyGgalFDw</td>\n",
       "      <td>[foodvideo, misscravingbuster, foodblogger, mu...</td>\n",
       "      <td>1532249632</td>\n",
       "      <td>[{'config_height': 150, 'config_width': 150, '...</td>\n",
       "      <td>https://instagram.fpnq3-1.fna.fbcdn.net/vp/802...</td>\n",
       "      <td>[https://instagram.fpnq3-1.fna.fbcdn.net/vp/33...</td>\n",
       "      <td>0.0</td>\n",
       "      <td>NaN</td>\n",
       "    </tr>\n",
       "    <tr>\n",
       "      <th>4</th>\n",
       "      <td>{'height': 936, 'width': 750}</td>\n",
       "      <td>https://instagram.fpnq3-1.fna.fbcdn.net/vp/5ee...</td>\n",
       "      <td>{'count': 223}</td>\n",
       "      <td>{'count': 223}</td>\n",
       "      <td>{'edges': [{'node': {'text': 'Tag a Pav bhaji ...</td>\n",
       "      <td>{'count': 14}</td>\n",
       "      <td>1852265507774756864</td>\n",
       "      <td>True</td>\n",
       "      <td>None</td>\n",
       "      <td>{'id': '7798081590'}</td>\n",
       "      <td>Bm0kapkn3ha</td>\n",
       "      <td>[]</td>\n",
       "      <td>1535027282</td>\n",
       "      <td>[{'config_height': 150, 'config_width': 150, '...</td>\n",
       "      <td>https://instagram.fpnq3-1.fna.fbcdn.net/vp/292...</td>\n",
       "      <td>[https://instagram.fpnq3-1.fna.fbcdn.net/vp/6a...</td>\n",
       "      <td>0.0</td>\n",
       "      <td>NaN</td>\n",
       "    </tr>\n",
       "  </tbody>\n",
       "</table>\n",
       "</div>"
      ],
      "text/plain": [
       "                      dimensions  \\\n",
       "0  {'height': 734, 'width': 640}   \n",
       "1  {'height': 750, 'width': 750}   \n",
       "2  {'height': 800, 'width': 640}   \n",
       "3  {'height': 937, 'width': 750}   \n",
       "4  {'height': 936, 'width': 750}   \n",
       "\n",
       "                                         display_url     edge_liked_by  \\\n",
       "0  https://instagram.fpnq3-1.fna.fbcdn.net/vp/352...   {'count': 3797}   \n",
       "1  https://instagram.fpnq3-1.fna.fbcdn.net/vp/b0d...  {'count': 12041}   \n",
       "2  https://instagram.fpnq3-1.fna.fbcdn.net/vp/cb4...   {'count': 3544}   \n",
       "3  https://instagram.fpnq3-1.fna.fbcdn.net/vp/180...   {'count': 1388}   \n",
       "4  https://instagram.fpnq3-1.fna.fbcdn.net/vp/5ee...    {'count': 223}   \n",
       "\n",
       "  edge_media_preview_like                              edge_media_to_caption  \\\n",
       "0         {'count': 3797}  {'edges': [{'node': {'text': 'TAG A PAV BHAJI ...   \n",
       "1        {'count': 12041}  {'edges': [{'node': {'text': 'देसी स्टाइल पाव ...   \n",
       "2         {'count': 3544}  {'edges': [{'node': {'text': 'Pav Bhaji😍😍😋\\n.\\...   \n",
       "3         {'count': 1388}  {'edges': [{'node': {'text': 'Asli Makhan Pav ...   \n",
       "4          {'count': 223}  {'edges': [{'node': {'text': 'Tag a Pav bhaji ...   \n",
       "\n",
       "  edge_media_to_comment                   id  is_video  \\\n",
       "0         {'count': 52}  1834712933156555776      True   \n",
       "1        {'count': 325}  1826000656302706176      True   \n",
       "2         {'count': 18}  1849962218902145792      True   \n",
       "3         {'count': 91}  1828963273137213696      True   \n",
       "4         {'count': 14}  1852265507774756864      True   \n",
       "\n",
       "                                            location                 owner  \\\n",
       "0                                               None  {'id': '1919686029'}   \n",
       "1  {'has_public_page': True, 'id': '245717485', '...  {'id': '1445587278'}   \n",
       "2  {'has_public_page': True, 'id': '213724095', '...  {'id': '4759392841'}   \n",
       "3  {'has_public_page': True, 'id': '234730336', '...  {'id': '4628040416'}   \n",
       "4                                               None  {'id': '7798081590'}   \n",
       "\n",
       "     shortcode                                               tags  \\\n",
       "0  Bl2NbElnIva  [vadapav, foodgram, foodphotography, foodblogg...   \n",
       "1  BlXQewejY3Z  [healthyfood, sokolkata, mumbaifoodie, faridab...   \n",
       "2  BmsYtYpjkq4  [foodphotography, mumbaipeople, vascom, delhib...   \n",
       "3  BlhyGgalFDw  [foodvideo, misscravingbuster, foodblogger, mu...   \n",
       "4  Bm0kapkn3ha                                                 []   \n",
       "\n",
       "   taken_at_timestamp                                thumbnail_resources  \\\n",
       "0          1532934873  [{'config_height': 150, 'config_width': 150, '...   \n",
       "1          1531897016  [{'config_height': 150, 'config_width': 150, '...   \n",
       "2          1534752790  [{'config_height': 150, 'config_width': 150, '...   \n",
       "3          1532249632  [{'config_height': 150, 'config_width': 150, '...   \n",
       "4          1535027282  [{'config_height': 150, 'config_width': 150, '...   \n",
       "\n",
       "                                       thumbnail_src  \\\n",
       "0  https://instagram.fpnq3-1.fna.fbcdn.net/vp/cb5...   \n",
       "1  https://instagram.fpnq3-1.fna.fbcdn.net/vp/ad3...   \n",
       "2  https://instagram.fpnq3-1.fna.fbcdn.net/vp/64f...   \n",
       "3  https://instagram.fpnq3-1.fna.fbcdn.net/vp/802...   \n",
       "4  https://instagram.fpnq3-1.fna.fbcdn.net/vp/292...   \n",
       "\n",
       "                                                urls  video_view_count  \\\n",
       "0  [https://instagram.fpnq3-1.fna.fbcdn.net/vp/89...               0.0   \n",
       "1  [https://instagram.fpnq3-1.fna.fbcdn.net/vp/9c...               0.0   \n",
       "2  [https://instagram.fpnq3-1.fna.fbcdn.net/vp/5e...               0.0   \n",
       "3  [https://instagram.fpnq3-1.fna.fbcdn.net/vp/33...               0.0   \n",
       "4  [https://instagram.fpnq3-1.fna.fbcdn.net/vp/6a...               0.0   \n",
       "\n",
       "   comments_disabled  \n",
       "0                NaN  \n",
       "1                NaN  \n",
       "2                NaN  \n",
       "3                NaN  \n",
       "4                NaN  "
      ]
     },
     "execution_count": 93,
     "metadata": {},
     "output_type": "execute_result"
    }
   ],
   "source": [
    "df.head()"
   ]
  },
  {
   "cell_type": "code",
   "execution_count": 94,
   "metadata": {},
   "outputs": [
    {
     "data": {
      "text/plain": [
       "(1500, 18)"
      ]
     },
     "execution_count": 94,
     "metadata": {},
     "output_type": "execute_result"
    }
   ],
   "source": [
    "df.shape"
   ]
  },
  {
   "cell_type": "code",
   "execution_count": 95,
   "metadata": {},
   "outputs": [],
   "source": [
    "process = DataProcessing(df)"
   ]
  },
  {
   "cell_type": "code",
   "execution_count": 96,
   "metadata": {},
   "outputs": [],
   "source": [
    "process.extract_img_url(df)"
   ]
  },
  {
   "cell_type": "code",
   "execution_count": 97,
   "metadata": {},
   "outputs": [],
   "source": [
    "process.extract_thumbnail_url(df)"
   ]
  },
  {
   "cell_type": "code",
   "execution_count": 98,
   "metadata": {},
   "outputs": [],
   "source": [
    "process.keep_rows(df,all_images)"
   ]
  },
  {
   "cell_type": "code",
   "execution_count": 99,
   "metadata": {},
   "outputs": [],
   "source": [
    "df = process.df"
   ]
  },
  {
   "cell_type": "code",
   "execution_count": 100,
   "metadata": {},
   "outputs": [],
   "source": [
    "process.extract_text(df)"
   ]
  },
  {
   "cell_type": "code",
   "execution_count": 101,
   "metadata": {},
   "outputs": [],
   "source": [
    "df = process.df"
   ]
  },
  {
   "cell_type": "code",
   "execution_count": 103,
   "metadata": {},
   "outputs": [],
   "source": [
    "process.add_label()"
   ]
  },
  {
   "cell_type": "code",
   "execution_count": 110,
   "metadata": {},
   "outputs": [],
   "source": [
    "process.process_tags(df)"
   ]
  },
  {
   "cell_type": "code",
   "execution_count": 111,
   "metadata": {},
   "outputs": [],
   "source": [
    "df = process.df"
   ]
  },
  {
   "cell_type": "code",
   "execution_count": 105,
   "metadata": {},
   "outputs": [
    {
     "data": {
      "text/html": [
       "<div>\n",
       "<style scoped>\n",
       "    .dataframe tbody tr th:only-of-type {\n",
       "        vertical-align: middle;\n",
       "    }\n",
       "\n",
       "    .dataframe tbody tr th {\n",
       "        vertical-align: top;\n",
       "    }\n",
       "\n",
       "    .dataframe thead th {\n",
       "        text-align: right;\n",
       "    }\n",
       "</style>\n",
       "<table border=\"1\" class=\"dataframe\">\n",
       "  <thead>\n",
       "    <tr style=\"text-align: right;\">\n",
       "      <th></th>\n",
       "      <th>dimensions</th>\n",
       "      <th>display_url</th>\n",
       "      <th>edge_liked_by</th>\n",
       "      <th>edge_media_preview_like</th>\n",
       "      <th>edge_media_to_caption</th>\n",
       "      <th>edge_media_to_comment</th>\n",
       "      <th>id</th>\n",
       "      <th>is_video</th>\n",
       "      <th>location</th>\n",
       "      <th>owner</th>\n",
       "      <th>shortcode</th>\n",
       "      <th>tags</th>\n",
       "      <th>taken_at_timestamp</th>\n",
       "      <th>thumbnail_resources</th>\n",
       "      <th>thumbnail_src</th>\n",
       "      <th>urls</th>\n",
       "      <th>video_view_count</th>\n",
       "      <th>comments_disabled</th>\n",
       "      <th>pavbhaji</th>\n",
       "    </tr>\n",
       "  </thead>\n",
       "  <tbody>\n",
       "    <tr>\n",
       "      <th>17</th>\n",
       "      <td>{'height': 1155, 'width': 1080}</td>\n",
       "      <td>https://instagram.fpnq3-1.fna.fbcdn.net/vp/700...</td>\n",
       "      <td>{'count': 45}</td>\n",
       "      <td>{'count': 45}</td>\n",
       "      <td>Chicken Tikka  . . . Follow @dilli_ki_teekhi_m...</td>\n",
       "      <td>{'count': 5}</td>\n",
       "      <td>1855224025926588672</td>\n",
       "      <td>False</td>\n",
       "      <td>None</td>\n",
       "      <td>{'id': '7815521541'}</td>\n",
       "      <td>Bm_FGwUH9l9</td>\n",
       "      <td>[westbengal, iphone, delhifoodie, sokolkata, m...</td>\n",
       "      <td>1535379959</td>\n",
       "      <td>[{'config_height': 150, 'config_width': 150, '...</td>\n",
       "      <td>39790065_708138802879611_4373499256883904512_n...</td>\n",
       "      <td>39790065_708138802879611_4373499256883904512_n...</td>\n",
       "      <td>NaN</td>\n",
       "      <td>0.0</td>\n",
       "      <td>1</td>\n",
       "    </tr>\n",
       "    <tr>\n",
       "      <th>18</th>\n",
       "      <td>{'height': 1080, 'width': 1080}</td>\n",
       "      <td>https://instagram.fpnq3-1.fna.fbcdn.net/vp/da9...</td>\n",
       "      <td>{'count': 215}</td>\n",
       "      <td>{'count': 215}</td>\n",
       "      <td>Hello frandz, pav bhaji khaalo Garam hai  Ye a...</td>\n",
       "      <td>{'count': 0}</td>\n",
       "      <td>1855211863837300480</td>\n",
       "      <td>False</td>\n",
       "      <td>{'has_public_page': True, 'id': '498870164', '...</td>\n",
       "      <td>{'id': '4846807954'}</td>\n",
       "      <td>Bm_CVxfHNd-</td>\n",
       "      <td>[foodgram, foodphotography, foodblogger, foodm...</td>\n",
       "      <td>1535378509</td>\n",
       "      <td>[{'config_height': 150, 'config_width': 150, '...</td>\n",
       "      <td>39205669_548076665624561_2856530375738392576_n...</td>\n",
       "      <td>39205669_548076665624561_2856530375738392576_n...</td>\n",
       "      <td>NaN</td>\n",
       "      <td>0.0</td>\n",
       "      <td>0</td>\n",
       "    </tr>\n",
       "    <tr>\n",
       "      <th>19</th>\n",
       "      <td>{'height': 1350, 'width': 1080}</td>\n",
       "      <td>https://instagram.fpnq3-1.fna.fbcdn.net/vp/a20...</td>\n",
       "      <td>{'count': 46}</td>\n",
       "      <td>{'count': 46}</td>\n",
       "      <td>Follow @dilliciousfoodie  @dilliciousfoodie  @...</td>\n",
       "      <td>{'count': 0}</td>\n",
       "      <td>1855207036881438720</td>\n",
       "      <td>False</td>\n",
       "      <td>{'has_public_page': True, 'id': '1946652909695...</td>\n",
       "      <td>{'id': '5689462323'}</td>\n",
       "      <td>Bm_BPiCH4hM</td>\n",
       "      <td>[foodphotography, bhaji, pasta, fries, f52gram...</td>\n",
       "      <td>1535377934</td>\n",
       "      <td>[{'config_height': 150, 'config_width': 150, '...</td>\n",
       "      <td>39928567_2025694197741778_2817802553157661723_...</td>\n",
       "      <td>39928567_2025694197741778_2817802553157661723_...</td>\n",
       "      <td>NaN</td>\n",
       "      <td>0.0</td>\n",
       "      <td>1</td>\n",
       "    </tr>\n",
       "    <tr>\n",
       "      <th>20</th>\n",
       "      <td>{'height': 750, 'width': 750}</td>\n",
       "      <td>https://instagram.fpnq3-1.fna.fbcdn.net/vp/b5f...</td>\n",
       "      <td>{'count': 741}</td>\n",
       "      <td>{'count': 741}</td>\n",
       "      <td>We’ve got you some delicious evening snacks . ...</td>\n",
       "      <td>{'count': 2}</td>\n",
       "      <td>1855194071632941056</td>\n",
       "      <td>False</td>\n",
       "      <td>None</td>\n",
       "      <td>{'id': '1996092261'}</td>\n",
       "      <td>Bm--S3NF5Bi</td>\n",
       "      <td>[UpcyclingFood, Twist, LeftoverPavBhajiBreadPa...</td>\n",
       "      <td>1535376388</td>\n",
       "      <td>[{'config_height': 150, 'config_width': 150, '...</td>\n",
       "      <td>39991006_472180219962850_7601786252118982656_n...</td>\n",
       "      <td>39991006_472180219962850_7601786252118982656_n...</td>\n",
       "      <td>NaN</td>\n",
       "      <td>0.0</td>\n",
       "      <td>1</td>\n",
       "    </tr>\n",
       "    <tr>\n",
       "      <th>21</th>\n",
       "      <td>{'height': 565, 'width': 1080}</td>\n",
       "      <td>https://instagram.fpnq3-1.fna.fbcdn.net/vp/6a2...</td>\n",
       "      <td>{'count': 28}</td>\n",
       "      <td>{'count': 28}</td>\n",
       "      <td>People who love food are the best  . . . . . ....</td>\n",
       "      <td>{'count': 0}</td>\n",
       "      <td>1855192456304594176</td>\n",
       "      <td>False</td>\n",
       "      <td>{'has_public_page': True, 'id': '239380854', '...</td>\n",
       "      <td>{'id': '3421689455'}</td>\n",
       "      <td>Bm-97W0BQyn</td>\n",
       "      <td>[foodphotography, lonidosa, tbt, foodie, mahar...</td>\n",
       "      <td>1535376196</td>\n",
       "      <td>[{'config_height': 150, 'config_width': 150, '...</td>\n",
       "      <td>37158549_528309647598249_6068909533663592448_n...</td>\n",
       "      <td>37158549_528309647598249_6068909533663592448_n...</td>\n",
       "      <td>NaN</td>\n",
       "      <td>0.0</td>\n",
       "      <td>1</td>\n",
       "    </tr>\n",
       "  </tbody>\n",
       "</table>\n",
       "</div>"
      ],
      "text/plain": [
       "                         dimensions  \\\n",
       "17  {'height': 1155, 'width': 1080}   \n",
       "18  {'height': 1080, 'width': 1080}   \n",
       "19  {'height': 1350, 'width': 1080}   \n",
       "20    {'height': 750, 'width': 750}   \n",
       "21   {'height': 565, 'width': 1080}   \n",
       "\n",
       "                                          display_url   edge_liked_by  \\\n",
       "17  https://instagram.fpnq3-1.fna.fbcdn.net/vp/700...   {'count': 45}   \n",
       "18  https://instagram.fpnq3-1.fna.fbcdn.net/vp/da9...  {'count': 215}   \n",
       "19  https://instagram.fpnq3-1.fna.fbcdn.net/vp/a20...   {'count': 46}   \n",
       "20  https://instagram.fpnq3-1.fna.fbcdn.net/vp/b5f...  {'count': 741}   \n",
       "21  https://instagram.fpnq3-1.fna.fbcdn.net/vp/6a2...   {'count': 28}   \n",
       "\n",
       "   edge_media_preview_like                              edge_media_to_caption  \\\n",
       "17           {'count': 45}  Chicken Tikka  . . . Follow @dilli_ki_teekhi_m...   \n",
       "18          {'count': 215}  Hello frandz, pav bhaji khaalo Garam hai  Ye a...   \n",
       "19           {'count': 46}  Follow @dilliciousfoodie  @dilliciousfoodie  @...   \n",
       "20          {'count': 741}  We’ve got you some delicious evening snacks . ...   \n",
       "21           {'count': 28}  People who love food are the best  . . . . . ....   \n",
       "\n",
       "   edge_media_to_comment                   id  is_video  \\\n",
       "17          {'count': 5}  1855224025926588672     False   \n",
       "18          {'count': 0}  1855211863837300480     False   \n",
       "19          {'count': 0}  1855207036881438720     False   \n",
       "20          {'count': 2}  1855194071632941056     False   \n",
       "21          {'count': 0}  1855192456304594176     False   \n",
       "\n",
       "                                             location                 owner  \\\n",
       "17                                               None  {'id': '7815521541'}   \n",
       "18  {'has_public_page': True, 'id': '498870164', '...  {'id': '4846807954'}   \n",
       "19  {'has_public_page': True, 'id': '1946652909695...  {'id': '5689462323'}   \n",
       "20                                               None  {'id': '1996092261'}   \n",
       "21  {'has_public_page': True, 'id': '239380854', '...  {'id': '3421689455'}   \n",
       "\n",
       "      shortcode                                               tags  \\\n",
       "17  Bm_FGwUH9l9  [westbengal, iphone, delhifoodie, sokolkata, m...   \n",
       "18  Bm_CVxfHNd-  [foodgram, foodphotography, foodblogger, foodm...   \n",
       "19  Bm_BPiCH4hM  [foodphotography, bhaji, pasta, fries, f52gram...   \n",
       "20  Bm--S3NF5Bi  [UpcyclingFood, Twist, LeftoverPavBhajiBreadPa...   \n",
       "21  Bm-97W0BQyn  [foodphotography, lonidosa, tbt, foodie, mahar...   \n",
       "\n",
       "    taken_at_timestamp                                thumbnail_resources  \\\n",
       "17          1535379959  [{'config_height': 150, 'config_width': 150, '...   \n",
       "18          1535378509  [{'config_height': 150, 'config_width': 150, '...   \n",
       "19          1535377934  [{'config_height': 150, 'config_width': 150, '...   \n",
       "20          1535376388  [{'config_height': 150, 'config_width': 150, '...   \n",
       "21          1535376196  [{'config_height': 150, 'config_width': 150, '...   \n",
       "\n",
       "                                        thumbnail_src  \\\n",
       "17  39790065_708138802879611_4373499256883904512_n...   \n",
       "18  39205669_548076665624561_2856530375738392576_n...   \n",
       "19  39928567_2025694197741778_2817802553157661723_...   \n",
       "20  39991006_472180219962850_7601786252118982656_n...   \n",
       "21  37158549_528309647598249_6068909533663592448_n...   \n",
       "\n",
       "                                                 urls  video_view_count  \\\n",
       "17  39790065_708138802879611_4373499256883904512_n...               NaN   \n",
       "18  39205669_548076665624561_2856530375738392576_n...               NaN   \n",
       "19  39928567_2025694197741778_2817802553157661723_...               NaN   \n",
       "20  39991006_472180219962850_7601786252118982656_n...               NaN   \n",
       "21  37158549_528309647598249_6068909533663592448_n...               NaN   \n",
       "\n",
       "    comments_disabled  pavbhaji  \n",
       "17                0.0         1  \n",
       "18                0.0         0  \n",
       "19                0.0         1  \n",
       "20                0.0         1  \n",
       "21                0.0         1  "
      ]
     },
     "execution_count": 105,
     "metadata": {},
     "output_type": "execute_result"
    }
   ],
   "source": [
    "df.head()"
   ]
  },
  {
   "cell_type": "markdown",
   "metadata": {},
   "source": [
    "## Using only tags to train the model for image classification"
   ]
  },
  {
   "cell_type": "code",
   "execution_count": 116,
   "metadata": {},
   "outputs": [],
   "source": [
    "X = df['tags']\n",
    "y = df.iloc[:,-1]\n",
    "X = X.reset_index(drop=True)\n",
    "y = y.reset_index(drop=True)"
   ]
  },
  {
   "cell_type": "code",
   "execution_count": 114,
   "metadata": {},
   "outputs": [],
   "source": [
    "def tokenize(text):\n",
    "    '''\n",
    "    Input\n",
    "    text: take the text as input\n",
    "    Output\n",
    "    words_lemmed: tokenized and lemmatized text with stop words removed \n",
    "    '''\n",
    "    text = re.sub(r\"[^a-zA-Z0-9]\", \" \", text.lower())\n",
    "    \n",
    "    stop_words = stopwords.words(\"english\")\n",
    "    \n",
    "    #tokenize\n",
    "    words = word_tokenize (text)\n",
    "    words_lemmed = [WordNetLemmatizer().lemmatize(w) for w in words if w not in stop_words]\n",
    "    return words_lemmed"
   ]
  },
  {
   "cell_type": "code",
   "execution_count": 117,
   "metadata": {},
   "outputs": [],
   "source": [
    "vect = CountVectorizer(tokenizer=tokenize)\n",
    "X = vect.fit_transform(X)\n",
    "tfidf = TfidfTransformer()\n",
    "X = tfidf.fit_transform(X)"
   ]
  },
  {
   "cell_type": "code",
   "execution_count": 146,
   "metadata": {},
   "outputs": [],
   "source": [
    "X_train, X_test, y_train, y_test = train_test_split(X, y, random_state = 22)"
   ]
  },
  {
   "cell_type": "code",
   "execution_count": 124,
   "metadata": {},
   "outputs": [],
   "source": [
    "pipeline = Pipeline([('scale',StandardScaler(with_mean=False)),\n",
    "                     ('clf', LinearSVC())])"
   ]
  },
  {
   "cell_type": "code",
   "execution_count": 128,
   "metadata": {},
   "outputs": [],
   "source": [
    "search_space = [{'clf':[LinearSVC()]},\n",
    "                \n",
    "                {'clf': [LogisticRegression(solver='sag',random_state=22)]},\n",
    "                \n",
    "                {'clf': [MultinomialNB()]},\n",
    "                {'clf':[RandomForestClassifier(n_estimators=200, max_depth=3, random_state=22)]}]"
   ]
  },
  {
   "cell_type": "code",
   "execution_count": 129,
   "metadata": {},
   "outputs": [],
   "source": [
    "cv = GridSearchCV(pipeline, search_space)"
   ]
  },
  {
   "cell_type": "code",
   "execution_count": 130,
   "metadata": {},
   "outputs": [
    {
     "name": "stderr",
     "output_type": "stream",
     "text": [
      "/home/sanket/anaconda3/envs/udacity/lib/python3.7/site-packages/sklearn/svm/_base.py:977: ConvergenceWarning:\n",
      "\n",
      "Liblinear failed to converge, increase the number of iterations.\n",
      "\n",
      "/home/sanket/anaconda3/envs/udacity/lib/python3.7/site-packages/sklearn/linear_model/_sag.py:330: ConvergenceWarning:\n",
      "\n",
      "The max_iter was reached which means the coef_ did not converge\n",
      "\n",
      "/home/sanket/anaconda3/envs/udacity/lib/python3.7/site-packages/sklearn/linear_model/_sag.py:330: ConvergenceWarning:\n",
      "\n",
      "The max_iter was reached which means the coef_ did not converge\n",
      "\n",
      "/home/sanket/anaconda3/envs/udacity/lib/python3.7/site-packages/sklearn/linear_model/_sag.py:330: ConvergenceWarning:\n",
      "\n",
      "The max_iter was reached which means the coef_ did not converge\n",
      "\n",
      "/home/sanket/anaconda3/envs/udacity/lib/python3.7/site-packages/sklearn/linear_model/_sag.py:330: ConvergenceWarning:\n",
      "\n",
      "The max_iter was reached which means the coef_ did not converge\n",
      "\n",
      "/home/sanket/anaconda3/envs/udacity/lib/python3.7/site-packages/sklearn/linear_model/_sag.py:330: ConvergenceWarning:\n",
      "\n",
      "The max_iter was reached which means the coef_ did not converge\n",
      "\n"
     ]
    },
    {
     "data": {
      "text/plain": [
       "GridSearchCV(estimator=Pipeline(steps=[('scale',\n",
       "                                        StandardScaler(with_mean=False)),\n",
       "                                       ('clf', LinearSVC())]),\n",
       "             param_grid=[{'clf': [LinearSVC()]},\n",
       "                         {'clf': [LogisticRegression(random_state=22,\n",
       "                                                     solver='sag')]},\n",
       "                         {'clf': [MultinomialNB()]},\n",
       "                         {'clf': [RandomForestClassifier(max_depth=3,\n",
       "                                                         n_estimators=200,\n",
       "                                                         random_state=22)]}])"
      ]
     },
     "execution_count": 130,
     "metadata": {},
     "output_type": "execute_result"
    }
   ],
   "source": [
    "cv.fit(X_train,y_train)"
   ]
  },
  {
   "cell_type": "code",
   "execution_count": 131,
   "metadata": {},
   "outputs": [],
   "source": [
    "pred = cv.predict(X_test)"
   ]
  },
  {
   "cell_type": "code",
   "execution_count": 133,
   "metadata": {},
   "outputs": [
    {
     "data": {
      "text/plain": [
       "0.6460176991150443"
      ]
     },
     "execution_count": 133,
     "metadata": {},
     "output_type": "execute_result"
    }
   ],
   "source": [
    "np.mean(pred == np.array(y_test))"
   ]
  },
  {
   "cell_type": "markdown",
   "metadata": {},
   "source": [
    "## Using deep learning model for classification"
   ]
  },
  {
   "cell_type": "code",
   "execution_count": 161,
   "metadata": {},
   "outputs": [],
   "source": [
    "x_train_array = X_train.toarray()\n",
    "y_train_array = np.array(y_train)\n",
    "x_test_array = X_test.toarray()\n",
    "y_test_array = np.array(y_test)"
   ]
  },
  {
   "cell_type": "code",
   "execution_count": 159,
   "metadata": {},
   "outputs": [],
   "source": [
    "from keras.models import Sequential\n",
    "from keras import layers\n",
    "input_dim = X_train.shape[1]  # Number of features\n",
    "model = Sequential()\n",
    "model.add(layers.Dense(10, input_dim=input_dim, activation='relu'))\n",
    "model.add(layers.Dense(1, activation='sigmoid'))"
   ]
  },
  {
   "cell_type": "code",
   "execution_count": 162,
   "metadata": {},
   "outputs": [],
   "source": [
    "scaler = StandardScaler()\n",
    "# transform data\n",
    "x_train_array = scaler.fit_transform(x_train_array)\n",
    "x_test_array = scaler.fit_transform(x_test_array)"
   ]
  },
  {
   "cell_type": "code",
   "execution_count": 163,
   "metadata": {},
   "outputs": [
    {
     "name": "stdout",
     "output_type": "stream",
     "text": [
      "Model: \"sequential_4\"\n",
      "_________________________________________________________________\n",
      "Layer (type)                 Output Shape              Param #   \n",
      "=================================================================\n",
      "dense_9 (Dense)              (None, 10)                25640     \n",
      "_________________________________________________________________\n",
      "dense_10 (Dense)             (None, 1)                 11        \n",
      "=================================================================\n",
      "Total params: 25,651\n",
      "Trainable params: 25,651\n",
      "Non-trainable params: 0\n",
      "_________________________________________________________________\n"
     ]
    }
   ],
   "source": [
    "model.compile(loss='binary_crossentropy', optimizer='adam', metrics=['accuracy'])\n",
    "model.summary()"
   ]
  },
  {
   "cell_type": "code",
   "execution_count": 164,
   "metadata": {},
   "outputs": [],
   "source": [
    "history = model.fit(x_train_array, y_train_array,epochs=100,verbose=False,validation_data=(x_test_array, y_test_array),batch_size=10)"
   ]
  },
  {
   "cell_type": "code",
   "execution_count": 165,
   "metadata": {},
   "outputs": [
    {
     "name": "stdout",
     "output_type": "stream",
     "text": [
      "Training Accuracy: 0.9853\n",
      "Testing Accuracy:  0.6637\n"
     ]
    }
   ],
   "source": [
    "loss, accuracy = model.evaluate(x_train_array, y_train_array, verbose=False)\n",
    "print(\"Training Accuracy: {:.4f}\".format(accuracy))\n",
    "loss, accuracy = model.evaluate(x_test_array, y_test_array, verbose=False)\n",
    "print(\"Testing Accuracy:  {:.4f}\".format(accuracy))"
   ]
  },
  {
   "cell_type": "code",
   "execution_count": null,
   "metadata": {},
   "outputs": [],
   "source": []
  }
 ],
 "metadata": {
  "kernelspec": {
   "display_name": "Python 3",
   "language": "python",
   "name": "python3"
  },
  "language_info": {
   "codemirror_mode": {
    "name": "ipython",
    "version": 3
   },
   "file_extension": ".py",
   "mimetype": "text/x-python",
   "name": "python",
   "nbconvert_exporter": "python",
   "pygments_lexer": "ipython3",
   "version": "3.7.7"
  }
 },
 "nbformat": 4,
 "nbformat_minor": 4
}
